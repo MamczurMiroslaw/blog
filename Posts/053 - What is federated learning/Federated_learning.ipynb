{
  "nbformat": 4,
  "nbformat_minor": 0,
  "metadata": {
    "colab": {
      "provenance": []
    },
    "kernelspec": {
      "name": "python3",
      "display_name": "Python 3"
    },
    "language_info": {
      "name": "python"
    }
  },
  "cells": [
    {
      "cell_type": "markdown",
      "source": [
        "# Federated learning"
      ],
      "metadata": {
        "id": "eGfaR9uIsWol"
      }
    },
    {
      "cell_type": "code",
      "execution_count": 1,
      "metadata": {
        "colab": {
          "base_uri": "https://localhost:8080/"
        },
        "id": "BUWXUuM1sE_F",
        "outputId": "73c68a71-0d9e-44ef-fdd4-9ce2397c9072"
      },
      "outputs": [
        {
          "output_type": "stream",
          "name": "stdout",
          "text": [
            "\u001b[2K     \u001b[90m━━━━━━━━━━━━━━━━━━━━━━━━━━━━━━━━━━━━━━━\u001b[0m \u001b[32m139.3/139.3 KB\u001b[0m \u001b[31m4.2 MB/s\u001b[0m eta \u001b[36m0:00:00\u001b[0m\n",
            "\u001b[2K     \u001b[90m━━━━━━━━━━━━━━━━━━━━━━━━━━━━━━━━━━━━━━━━\u001b[0m \u001b[32m57.4/57.4 MB\u001b[0m \u001b[31m10.9 MB/s\u001b[0m eta \u001b[36m0:00:00\u001b[0m\n",
            "\u001b[2K     \u001b[90m━━━━━━━━━━━━━━━━━━━━━━━━━━━━━━━━━━━━━━━\u001b[0m \u001b[32m158.8/158.8 KB\u001b[0m \u001b[31m4.7 MB/s\u001b[0m eta \u001b[36m0:00:00\u001b[0m\n",
            "\u001b[2K     \u001b[90m━━━━━━━━━━━━━━━━━━━━━━━━━━━━━━━━━━━━━━━━\u001b[0m \u001b[32m8.7/8.7 MB\u001b[0m \u001b[31m26.7 MB/s\u001b[0m eta \u001b[36m0:00:00\u001b[0m\n",
            "\u001b[2K     \u001b[90m━━━━━━━━━━━━━━━━━━━━━━━━━━━━━━━━━━━━━━━\u001b[0m \u001b[32m128.2/128.2 KB\u001b[0m \u001b[31m3.4 MB/s\u001b[0m eta \u001b[36m0:00:00\u001b[0m\n",
            "\u001b[2K     \u001b[90m━━━━━━━━━━━━━━━━━━━━━━━━━━━━━━━━━━━━━━━━\u001b[0m \u001b[32m1.0/1.0 MB\u001b[0m \u001b[31m11.7 MB/s\u001b[0m eta \u001b[36m0:00:00\u001b[0m\n",
            "\u001b[2K     \u001b[90m━━━━━━━━━━━━━━━━━━━━━━━━━━━━━━━━━━━━━━━━\u001b[0m \u001b[32m90.5/90.5 KB\u001b[0m \u001b[31m7.2 MB/s\u001b[0m eta \u001b[36m0:00:00\u001b[0m\n",
            "\u001b[?25h  Preparing metadata (setup.py) ... \u001b[?25l\u001b[?25hdone\n",
            "\u001b[2K     \u001b[90m━━━━━━━━━━━━━━━━━━━━━━━━━━━━━━━━━━━━━━\u001b[0m \u001b[32m201.4/201.4 KB\u001b[0m \u001b[31m11.8 MB/s\u001b[0m eta \u001b[36m0:00:00\u001b[0m\n",
            "\u001b[2K     \u001b[90m━━━━━━━━━━━━━━━━━━━━━━━━━━━━━━━━━━━━━━━━\u001b[0m \u001b[32m57.1/57.1 KB\u001b[0m \u001b[31m4.4 MB/s\u001b[0m eta \u001b[36m0:00:00\u001b[0m\n",
            "\u001b[2K     \u001b[90m━━━━━━━━━━━━━━━━━━━━━━━━━━━━━━━━━━━━━━━━\u001b[0m \u001b[32m3.0/3.0 MB\u001b[0m \u001b[31m54.3 MB/s\u001b[0m eta \u001b[36m0:00:00\u001b[0m\n",
            "\u001b[2K     \u001b[90m━━━━━━━━━━━━━━━━━━━━━━━━━━━━━━━━━━━━━━━\u001b[0m \u001b[32m114.2/114.2 KB\u001b[0m \u001b[31m3.3 MB/s\u001b[0m eta \u001b[36m0:00:00\u001b[0m\n",
            "\u001b[2K     \u001b[90m━━━━━━━━━━━━━━━━━━━━━━━━━━━━━━━━━━━━━━━\u001b[0m \u001b[32m264.6/264.6 KB\u001b[0m \u001b[31m9.4 MB/s\u001b[0m eta \u001b[36m0:00:00\u001b[0m\n",
            "\u001b[2K     \u001b[90m━━━━━━━━━━━━━━━━━━━━━━━━━━━━━━━━━━━━━━━━\u001b[0m \u001b[32m58.4/58.4 KB\u001b[0m \u001b[31m2.9 MB/s\u001b[0m eta \u001b[36m0:00:00\u001b[0m\n",
            "\u001b[2K     \u001b[90m━━━━━━━━━━━━━━━━━━━━━━━━━━━━━━━━━━━━━━\u001b[0m \u001b[32m468.5/468.5 KB\u001b[0m \u001b[31m26.1 MB/s\u001b[0m eta \u001b[36m0:00:00\u001b[0m\n",
            "\u001b[?25h  Building wheel for gpustat (setup.py) ... \u001b[?25l\u001b[?25hdone\n"
          ]
        }
      ],
      "source": [
        "# Pobierz biblioteki\n",
        "!pip install -q flwr[simulation] tensorflow"
      ]
    },
    {
      "cell_type": "code",
      "source": [
        "# Importuj biblioteki\n",
        "import os\n",
        "from functools import partial\n",
        "\n",
        "import flwr as fl\n",
        "import numpy as np\n",
        "import tensorflow as tf\n",
        "from tensorflow.keras.datasets import mnist\n",
        "from tensorflow.keras.layers import Conv2D, Dense, Dropout, Flatten, Input, MaxPooling2D\n",
        "from tensorflow.keras.models import Model"
      ],
      "metadata": {
        "id": "2AaT15AHsHrB"
      },
      "execution_count": 3,
      "outputs": []
    },
    {
      "cell_type": "code",
      "source": [
        "from platform import python_version\n",
        "print(f'python: {python_version()}')\n",
        "print(f\"\\nflwr: {fl.__version__}\")\n",
        "print(f\"numpy: {np.__version__}\")\n",
        "print(f\"tensorflow: {tf.__version__}\")"
      ],
      "metadata": {
        "colab": {
          "base_uri": "https://localhost:8080/"
        },
        "id": "_eeYfUlmsghJ",
        "outputId": "8c539760-d50e-4982-8b39-91b02c28859b"
      },
      "execution_count": 4,
      "outputs": [
        {
          "output_type": "stream",
          "name": "stdout",
          "text": [
            "python: 3.9.16\n",
            "\n",
            "flwr: 1.3.0\n",
            "numpy: 1.22.4\n",
            "tensorflow: 2.12.0\n"
          ]
        }
      ]
    },
    {
      "cell_type": "code",
      "source": [
        "# Użyjmy tylko CPU\n",
        "tf.config.set_visible_devices([], 'GPU')"
      ],
      "metadata": {
        "id": "rVZj6QGgskuH"
      },
      "execution_count": 5,
      "outputs": []
    },
    {
      "cell_type": "code",
      "source": [
        "# Załadujmy zbiór dancyh MNIST\n",
        "(x_train, y_train), (x_test, y_test) = mnist.load_data()\n",
        "\n",
        "# Przeskalujmy dane do [0, 1]\n",
        "x_train = x_train / 255.0\n",
        "x_test = x_test / 255.0\n",
        "\n",
        "# Dodajmy dodatkowy wymiar to danych (wymagane przez Conv2D)\n",
        "x_train = x_train.reshape(x_train.shape[0], 28, 28, 1)\n",
        "x_test = x_test.reshape(x_test.shape[0], 28, 28, 1)"
      ],
      "metadata": {
        "colab": {
          "base_uri": "https://localhost:8080/"
        },
        "id": "myPmrfCFs91u",
        "outputId": "f886dda0-8fb9-4895-a8d4-55b9293f3bfe"
      },
      "execution_count": 7,
      "outputs": [
        {
          "output_type": "stream",
          "name": "stdout",
          "text": [
            "Downloading data from https://storage.googleapis.com/tensorflow/tf-keras-datasets/mnist.npz\n",
            "11490434/11490434 [==============================] - 1s 0us/step\n"
          ]
        }
      ]
    },
    {
      "cell_type": "code",
      "source": [
        "# Podzielmy dane na 5 klientów\n",
        "NUM_CLIENTS = 5\n",
        "x_split = np.split(x_train, NUM_CLIENTS)\n",
        "y_split = np.split(y_train, NUM_CLIENTS)\n",
        "\n",
        "# Stwórzmy mapę cid (id klient) do danych\n",
        "# Dla danych treningowych i testowych\n",
        "num_data_in_split = x_split[0].shape[0]\n",
        "train_split = 0.8\n",
        "x_trains, y_trains, x_tests, y_tests = {}, {}, {}, {}\n",
        "for idx, (client_x, client_y) in enumerate(zip(x_split, y_split)):\n",
        "   train_end_idx = int(0.8 * num_data_in_split)\n",
        "   x_trains[str(idx)] = client_x[:train_end_idx]\n",
        "   y_trains[str(idx)] = client_y[:train_end_idx]\n",
        "   x_tests[str(idx)] = client_x[train_end_idx:]\n",
        "   y_tests[str(idx)] = client_y[train_end_idx:]\n"
      ],
      "metadata": {
        "id": "WWRSm5QFs_dM"
      },
      "execution_count": 8,
      "outputs": []
    },
    {
      "cell_type": "code",
      "source": [
        "for i in ['0','1','2','3','4']:\n",
        "  print(f\"x_trains['{i}'].shape = {x_trains[i].shape}; \\\n",
        "  x_tests['{i}'].shape = {x_tests[i].shape};\")"
      ],
      "metadata": {
        "colab": {
          "base_uri": "https://localhost:8080/"
        },
        "id": "MGBNZi-0Gbf_",
        "outputId": "d567036e-d542-4233-ed0e-2e686bf122b9"
      },
      "execution_count": 29,
      "outputs": [
        {
          "output_type": "stream",
          "name": "stdout",
          "text": [
            "x_trains['0'].shape = (9600, 28, 28, 1);   x_tests['0'].shape = (2400, 28, 28, 1);\n",
            "x_trains['1'].shape = (9600, 28, 28, 1);   x_tests['1'].shape = (2400, 28, 28, 1);\n",
            "x_trains['2'].shape = (9600, 28, 28, 1);   x_tests['2'].shape = (2400, 28, 28, 1);\n",
            "x_trains['3'].shape = (9600, 28, 28, 1);   x_tests['3'].shape = (2400, 28, 28, 1);\n",
            "x_trains['4'].shape = (9600, 28, 28, 1);   x_tests['4'].shape = (2400, 28, 28, 1);\n"
          ]
        }
      ]
    },
    {
      "cell_type": "code",
      "source": [
        "class CNN(Model):\n",
        "   def __init__(self):\n",
        "       super(CNN, self).__init__()\n",
        "       self.conv1 = Conv2D(32, (3, 3), activation='relu')\n",
        "       self.pool1 = MaxPooling2D((2, 2))\n",
        "       self.conv2 = Conv2D(64, (3, 3), activation='relu')\n",
        "       self.pool2 = MaxPooling2D((2, 2))\n",
        "       self.flatten = Flatten()\n",
        "       self.dense1 = Dense(128, activation='relu')\n",
        "       self.dropout = Dropout(0.5)\n",
        "       self.dense2 = Dense(10, activation='softmax')\n",
        "\n",
        "\n",
        "   def call(self, inputs):\n",
        "       x = self.conv1(inputs)\n",
        "       x = self.pool1(x)\n",
        "       x = self.conv2(x)\n",
        "       x = self.pool2(x)\n",
        "       x = self.flatten(x)\n",
        "       x = self.dense1(x)\n",
        "       x = self.dropout(x)\n",
        "       return self.dense2(x)\n"
      ],
      "metadata": {
        "id": "YsB5Wi_ItCLC"
      },
      "execution_count": 32,
      "outputs": []
    },
    {
      "cell_type": "code",
      "source": [
        "# Zdefiniujmy Klienta Flower\n",
        "class FlowerClient(fl.client.NumPyClient):\n",
        "   def __init__(self, model, X_train, y_train, X_test, y_test):\n",
        "       self.model = model\n",
        "       self.model.build((32, 28, 28, 1))\n",
        "       self.X_train = X_train\n",
        "       self.y_train = y_train\n",
        "       self.X_test = X_test\n",
        "       self.y_test = y_test\n",
        "\n",
        "\n",
        "   def get_parameters(self, config):\n",
        "       return self.model.get_weights()\n",
        "\n",
        "\n",
        "   def fit(self, parameters, config):\n",
        "       self.model.compile(\"adam\", \"sparse_categorical_crossentropy\", metrics=[\"accuracy\"])\n",
        "       self.model.set_weights(parameters)\n",
        "       self.model.fit(self.X_train, self.y_train, epochs=1, batch_size=32, verbose=0)\n",
        "       return self.model.get_weights(), len(x_train), {}\n",
        "\n",
        "\n",
        "   def evaluate(self, parameters, config):\n",
        "       self.model.compile(\"adam\", \"sparse_categorical_crossentropy\", metrics=[\"accuracy\"])\n",
        "       self.model.set_weights(parameters)\n",
        "       loss, accuracy = self.model.evaluate(self.X_test, self.y_test, batch_size=32, verbose=0)\n",
        "       return loss, len(self.X_test), {\"accuracy\": accuracy}"
      ],
      "metadata": {
        "id": "s-VWaqcntHbQ"
      },
      "execution_count": 33,
      "outputs": []
    },
    {
      "cell_type": "code",
      "source": [
        "# Pełna funcja tworząca jednego clienta Flower\n",
        "def create_client(\n",
        "   cid, model_class, x_trains, y_trains, x_tests, y_tests\n",
        ") -> FlowerClient:\n",
        "   \"\"\"Create a Flower client representing a single organization.\"\"\"\n",
        "   model = model_class()\n",
        "   # Create a  single Flower client representing a single organization\n",
        "   return FlowerClient(model, x_trains[cid], y_trains[cid], x_tests[cid], y_tests[cid])\n",
        "\n",
        "\n",
        "# Funkcja tworząca jednego klienta Flower z tylko jednym argumentem - cid\n",
        "# Reszta argumentów jest stała\n",
        "client_fnc = partial(\n",
        "   create_client,\n",
        "   model_class=CNN,\n",
        "   x_trains=x_trains,\n",
        "   y_trains=y_trains,\n",
        "   x_tests=x_tests,\n",
        "   y_tests=y_tests,\n",
        ")\n"
      ],
      "metadata": {
        "id": "q4cXJP-AtKZh"
      },
      "execution_count": 34,
      "outputs": []
    },
    {
      "cell_type": "code",
      "source": [
        "# Uśrednianie metryk\n",
        "def weighted_average(metrics):\n",
        "   print(metrics)\n",
        "   accuracies = [num_examples * m[\"accuracy\"] for num_examples, m in metrics]\n",
        "   examples = [num_examples for num_examples, _ in metrics]\n",
        "   return {\"accuracy\": int(sum(accuracies)) / int(sum(examples))}\n",
        "\n",
        "\n",
        "# Stwórzmy strategię FedAvg\n",
        "strategy = fl.server.strategy.FedAvg(\n",
        "   fraction_fit=1.0,  # Samplujmy 100% dostępnych klientów na trening\n",
        "   fraction_evaluate=1.0,  # Samplujmy 100% dostępnych klientów na evaluację\n",
        "   min_fit_clients=5,  # Nie samplujmy mniej niż 5 klientów na trening\n",
        "   min_evaluate_clients=5,  #Nie samplujmy mniej niż 5 klientów na evaluację\n",
        "   min_available_clients=5,  # Poczekaj aż 5 klientów jest dostępnych\n",
        "   evaluate_metrics_aggregation_fn=weighted_average, # Uśrednianie metryk\n",
        ")\n"
      ],
      "metadata": {
        "id": "Be4b4ktxtNpQ"
      },
      "execution_count": 35,
      "outputs": []
    },
    {
      "cell_type": "code",
      "source": [
        "fl.simulation.start_simulation(\n",
        "   client_fn=client_fnc,\n",
        "   num_clients=NUM_CLIENTS,\n",
        "   config=fl.server.ServerConfig(num_rounds=10),\n",
        "   strategy=strategy,\n",
        "   client_resources={\"num_cpus\": 1, \"num_gpus\": 0},\n",
        "   ray_init_args={\n",
        "       \"num_cpus\": 1,\n",
        "       \"num_gpus\": 0,\n",
        "       \"_system_config\": {\"automatic_object_spilling_enabled\": False},\n",
        "   },\n",
        ")\n"
      ],
      "metadata": {
        "colab": {
          "base_uri": "https://localhost:8080/"
        },
        "id": "v5ckO1I4tQlw",
        "outputId": "d8595351-39b7-49a5-b48a-3f9e530d9411"
      },
      "execution_count": 14,
      "outputs": [
        {
          "output_type": "stream",
          "name": "stderr",
          "text": [
            "INFO flwr 2023-04-03 10:41:34,645 | app.py:145 | Starting Flower simulation, config: ServerConfig(num_rounds=10, round_timeout=None)\n",
            "INFO:flwr:Starting Flower simulation, config: ServerConfig(num_rounds=10, round_timeout=None)\n",
            "2023-04-03 10:41:39,090\tINFO worker.py:1529 -- Started a local Ray instance. View the dashboard at \u001b[1m\u001b[32m127.0.0.1:8265 \u001b[39m\u001b[22m\n",
            "INFO flwr 2023-04-03 10:41:40,961 | app.py:179 | Flower VCE: Ray initialized with resources: {'memory': 7902727374.0, 'object_store_memory': 3951363686.0, 'CPU': 1.0, 'node:172.28.0.12': 1.0}\n",
            "INFO:flwr:Flower VCE: Ray initialized with resources: {'memory': 7902727374.0, 'object_store_memory': 3951363686.0, 'CPU': 1.0, 'node:172.28.0.12': 1.0}\n",
            "INFO flwr 2023-04-03 10:41:40,982 | server.py:86 | Initializing global parameters\n",
            "INFO:flwr:Initializing global parameters\n",
            "INFO flwr 2023-04-03 10:41:40,991 | server.py:270 | Requesting initial parameters from one random client\n",
            "INFO:flwr:Requesting initial parameters from one random client\n",
            "\u001b[2m\u001b[36m(launch_and_get_parameters pid=1897)\u001b[0m 2023-04-03 10:41:43.943043: W tensorflow/compiler/tf2tensorrt/utils/py_utils.cc:38] TF-TRT Warning: Could not find TensorRT\n",
            "\u001b[2m\u001b[36m(launch_and_get_parameters pid=1897)\u001b[0m 2023-04-03 10:41:45.668367: E tensorflow/compiler/xla/stream_executor/cuda/cuda_driver.cc:266] failed call to cuInit: CUDA_ERROR_NO_DEVICE: no CUDA-capable device is detected\n",
            "INFO flwr 2023-04-03 10:41:45,878 | server.py:274 | Received initial parameters from one random client\n",
            "INFO:flwr:Received initial parameters from one random client\n",
            "INFO flwr 2023-04-03 10:41:45,882 | server.py:88 | Evaluating initial parameters\n",
            "INFO:flwr:Evaluating initial parameters\n",
            "INFO flwr 2023-04-03 10:41:45,886 | server.py:101 | FL starting\n",
            "INFO:flwr:FL starting\n",
            "DEBUG flwr 2023-04-03 10:41:45,892 | server.py:215 | fit_round 1: strategy sampled 5 clients (out of 5)\n",
            "DEBUG:flwr:fit_round 1: strategy sampled 5 clients (out of 5)\n",
            "\u001b[2m\u001b[36m(launch_and_fit pid=1897)\u001b[0m WARNING:tensorflow:AutoGraph could not transform <bound method CNN.call of <__main__.CNN object at 0x7fdc0c0eee50>> and will run it as-is.\n",
            "\u001b[2m\u001b[36m(launch_and_fit pid=1897)\u001b[0m Cause: Unable to locate the source code of <bound method CNN.call of <__main__.CNN object at 0x7fdc0c0eee50>>. Note that functions defined in certain environments, like the interactive Python shell, do not expose their source code. If that is the case, you should define them in a .py source file. If you are certain the code is graph-compatible, wrap the call using @tf.autograph.experimental.do_not_convert. Original error: could not get source code\n",
            "\u001b[2m\u001b[36m(launch_and_fit pid=1897)\u001b[0m To silence this warning, decorate the function with @tf.autograph.experimental.do_not_convert\n",
            "\u001b[2m\u001b[36m(launch_and_fit pid=1897)\u001b[0m WARNING:tensorflow:AutoGraph could not transform <bound method CNN.call of <__main__.CNN object at 0x7fda9119fe50>> and will run it as-is.\n",
            "\u001b[2m\u001b[36m(launch_and_fit pid=1897)\u001b[0m Cause: Unable to locate the source code of <bound method CNN.call of <__main__.CNN object at 0x7fda9119fe50>>. Note that functions defined in certain environments, like the interactive Python shell, do not expose their source code. If that is the case, you should define them in a .py source file. If you are certain the code is graph-compatible, wrap the call using @tf.autograph.experimental.do_not_convert. Original error: could not get source code\n",
            "\u001b[2m\u001b[36m(launch_and_fit pid=1897)\u001b[0m To silence this warning, decorate the function with @tf.autograph.experimental.do_not_convert\n",
            "\u001b[2m\u001b[36m(launch_and_fit pid=1897)\u001b[0m WARNING:tensorflow:AutoGraph could not transform <bound method CNN.call of <__main__.CNN object at 0x7fda8fec03a0>> and will run it as-is.\n",
            "\u001b[2m\u001b[36m(launch_and_fit pid=1897)\u001b[0m Cause: Unable to locate the source code of <bound method CNN.call of <__main__.CNN object at 0x7fda8fec03a0>>. Note that functions defined in certain environments, like the interactive Python shell, do not expose their source code. If that is the case, you should define them in a .py source file. If you are certain the code is graph-compatible, wrap the call using @tf.autograph.experimental.do_not_convert. Original error: could not get source code\n",
            "\u001b[2m\u001b[36m(launch_and_fit pid=1897)\u001b[0m To silence this warning, decorate the function with @tf.autograph.experimental.do_not_convert\n",
            "\u001b[2m\u001b[36m(launch_and_fit pid=1897)\u001b[0m WARNING:tensorflow:AutoGraph could not transform <bound method CNN.call of <__main__.CNN object at 0x7fda91117700>> and will run it as-is.\n",
            "\u001b[2m\u001b[36m(launch_and_fit pid=1897)\u001b[0m Cause: Unable to locate the source code of <bound method CNN.call of <__main__.CNN object at 0x7fda91117700>>. Note that functions defined in certain environments, like the interactive Python shell, do not expose their source code. If that is the case, you should define them in a .py source file. If you are certain the code is graph-compatible, wrap the call using @tf.autograph.experimental.do_not_convert. Original error: could not get source code\n",
            "\u001b[2m\u001b[36m(launch_and_fit pid=1897)\u001b[0m To silence this warning, decorate the function with @tf.autograph.experimental.do_not_convert\n",
            "\u001b[2m\u001b[36m(launch_and_fit pid=1897)\u001b[0m WARNING:tensorflow:AutoGraph could not transform <bound method CNN.call of <__main__.CNN object at 0x7fda910f2520>> and will run it as-is.\n",
            "\u001b[2m\u001b[36m(launch_and_fit pid=1897)\u001b[0m Cause: Unable to locate the source code of <bound method CNN.call of <__main__.CNN object at 0x7fda910f2520>>. Note that functions defined in certain environments, like the interactive Python shell, do not expose their source code. If that is the case, you should define them in a .py source file. If you are certain the code is graph-compatible, wrap the call using @tf.autograph.experimental.do_not_convert. Original error: could not get source code\n",
            "\u001b[2m\u001b[36m(launch_and_fit pid=1897)\u001b[0m To silence this warning, decorate the function with @tf.autograph.experimental.do_not_convert\n",
            "DEBUG flwr 2023-04-03 10:42:55,904 | server.py:229 | fit_round 1 received 5 results and 0 failures\n",
            "DEBUG:flwr:fit_round 1 received 5 results and 0 failures\n",
            "WARNING flwr 2023-04-03 10:42:55,938 | fedavg.py:242 | No fit_metrics_aggregation_fn provided\n",
            "WARNING:flwr:No fit_metrics_aggregation_fn provided\n",
            "DEBUG flwr 2023-04-03 10:42:55,943 | server.py:165 | evaluate_round 1: strategy sampled 5 clients (out of 5)\n",
            "DEBUG:flwr:evaluate_round 1: strategy sampled 5 clients (out of 5)\n",
            "\u001b[2m\u001b[36m(launch_and_evaluate pid=1897)\u001b[0m WARNING:tensorflow:AutoGraph could not transform <bound method CNN.call of <__main__.CNN object at 0x7fda90d207f0>> and will run it as-is.\n",
            "\u001b[2m\u001b[36m(launch_and_evaluate pid=1897)\u001b[0m Cause: Unable to locate the source code of <bound method CNN.call of <__main__.CNN object at 0x7fda90d207f0>>. Note that functions defined in certain environments, like the interactive Python shell, do not expose their source code. If that is the case, you should define them in a .py source file. If you are certain the code is graph-compatible, wrap the call using @tf.autograph.experimental.do_not_convert. Original error: could not get source code\n",
            "\u001b[2m\u001b[36m(launch_and_evaluate pid=1897)\u001b[0m To silence this warning, decorate the function with @tf.autograph.experimental.do_not_convert\n",
            "\u001b[2m\u001b[36m(launch_and_evaluate pid=1897)\u001b[0m WARNING:tensorflow:AutoGraph could not transform <bound method CNN.call of <__main__.CNN object at 0x7fda90ebc5e0>> and will run it as-is.\n",
            "\u001b[2m\u001b[36m(launch_and_evaluate pid=1897)\u001b[0m Cause: Unable to locate the source code of <bound method CNN.call of <__main__.CNN object at 0x7fda90ebc5e0>>. Note that functions defined in certain environments, like the interactive Python shell, do not expose their source code. If that is the case, you should define them in a .py source file. If you are certain the code is graph-compatible, wrap the call using @tf.autograph.experimental.do_not_convert. Original error: could not get source code\n",
            "\u001b[2m\u001b[36m(launch_and_evaluate pid=1897)\u001b[0m To silence this warning, decorate the function with @tf.autograph.experimental.do_not_convert\n",
            "\u001b[2m\u001b[36m(launch_and_evaluate pid=1897)\u001b[0m WARNING:tensorflow:AutoGraph could not transform <bound method CNN.call of <__main__.CNN object at 0x7fda90d73eb0>> and will run it as-is.\n",
            "\u001b[2m\u001b[36m(launch_and_evaluate pid=1897)\u001b[0m Cause: Unable to locate the source code of <bound method CNN.call of <__main__.CNN object at 0x7fda90d73eb0>>. Note that functions defined in certain environments, like the interactive Python shell, do not expose their source code. If that is the case, you should define them in a .py source file. If you are certain the code is graph-compatible, wrap the call using @tf.autograph.experimental.do_not_convert. Original error: could not get source code\n",
            "\u001b[2m\u001b[36m(launch_and_evaluate pid=1897)\u001b[0m To silence this warning, decorate the function with @tf.autograph.experimental.do_not_convert\n",
            "\u001b[2m\u001b[36m(launch_and_evaluate pid=1897)\u001b[0m WARNING:tensorflow:AutoGraph could not transform <bound method CNN.call of <__main__.CNN object at 0x7fda8fef36d0>> and will run it as-is.\n",
            "\u001b[2m\u001b[36m(launch_and_evaluate pid=1897)\u001b[0m Cause: Unable to locate the source code of <bound method CNN.call of <__main__.CNN object at 0x7fda8fef36d0>>. Note that functions defined in certain environments, like the interactive Python shell, do not expose their source code. If that is the case, you should define them in a .py source file. If you are certain the code is graph-compatible, wrap the call using @tf.autograph.experimental.do_not_convert. Original error: could not get source code\n",
            "\u001b[2m\u001b[36m(launch_and_evaluate pid=1897)\u001b[0m To silence this warning, decorate the function with @tf.autograph.experimental.do_not_convert\n",
            "\u001b[2m\u001b[36m(launch_and_evaluate pid=1897)\u001b[0m WARNING:tensorflow:AutoGraph could not transform <bound method CNN.call of <__main__.CNN object at 0x7fda90f29d00>> and will run it as-is.\n",
            "\u001b[2m\u001b[36m(launch_and_evaluate pid=1897)\u001b[0m Cause: Unable to locate the source code of <bound method CNN.call of <__main__.CNN object at 0x7fda90f29d00>>. Note that functions defined in certain environments, like the interactive Python shell, do not expose their source code. If that is the case, you should define them in a .py source file. If you are certain the code is graph-compatible, wrap the call using @tf.autograph.experimental.do_not_convert. Original error: could not get source code\n",
            "\u001b[2m\u001b[36m(launch_and_evaluate pid=1897)\u001b[0m To silence this warning, decorate the function with @tf.autograph.experimental.do_not_convert\n",
            "DEBUG flwr 2023-04-03 10:43:18,177 | server.py:179 | evaluate_round 1 received 5 results and 0 failures\n",
            "DEBUG:flwr:evaluate_round 1 received 5 results and 0 failures\n",
            "DEBUG flwr 2023-04-03 10:43:18,182 | server.py:215 | fit_round 2: strategy sampled 5 clients (out of 5)\n",
            "DEBUG:flwr:fit_round 2: strategy sampled 5 clients (out of 5)\n"
          ]
        },
        {
          "output_type": "stream",
          "name": "stdout",
          "text": [
            "[(2400, {'accuracy': 0.9445833563804626}), (2400, {'accuracy': 0.9558333158493042}), (2400, {'accuracy': 0.9704166650772095}), (2400, {'accuracy': 0.9641666412353516}), (2400, {'accuracy': 0.95291668176651})]\n"
          ]
        },
        {
          "output_type": "stream",
          "name": "stderr",
          "text": [
            "\u001b[2m\u001b[36m(launch_and_fit pid=1897)\u001b[0m WARNING:tensorflow:AutoGraph could not transform <bound method CNN.call of <__main__.CNN object at 0x7fda90f8d820>> and will run it as-is.\n",
            "\u001b[2m\u001b[36m(launch_and_fit pid=1897)\u001b[0m Cause: Unable to locate the source code of <bound method CNN.call of <__main__.CNN object at 0x7fda90f8d820>>. Note that functions defined in certain environments, like the interactive Python shell, do not expose their source code. If that is the case, you should define them in a .py source file. If you are certain the code is graph-compatible, wrap the call using @tf.autograph.experimental.do_not_convert. Original error: could not get source code\n",
            "\u001b[2m\u001b[36m(launch_and_fit pid=1897)\u001b[0m To silence this warning, decorate the function with @tf.autograph.experimental.do_not_convert\n",
            "\u001b[2m\u001b[36m(launch_and_fit pid=1897)\u001b[0m WARNING:tensorflow:AutoGraph could not transform <bound method CNN.call of <__main__.CNN object at 0x7fda95ffbb50>> and will run it as-is.\n",
            "\u001b[2m\u001b[36m(launch_and_fit pid=1897)\u001b[0m Cause: Unable to locate the source code of <bound method CNN.call of <__main__.CNN object at 0x7fda95ffbb50>>. Note that functions defined in certain environments, like the interactive Python shell, do not expose their source code. If that is the case, you should define them in a .py source file. If you are certain the code is graph-compatible, wrap the call using @tf.autograph.experimental.do_not_convert. Original error: could not get source code\n",
            "\u001b[2m\u001b[36m(launch_and_fit pid=1897)\u001b[0m To silence this warning, decorate the function with @tf.autograph.experimental.do_not_convert\n",
            "\u001b[2m\u001b[36m(launch_and_fit pid=1897)\u001b[0m WARNING:tensorflow:AutoGraph could not transform <bound method CNN.call of <__main__.CNN object at 0x7fda90070e80>> and will run it as-is.\n",
            "\u001b[2m\u001b[36m(launch_and_fit pid=1897)\u001b[0m Cause: Unable to locate the source code of <bound method CNN.call of <__main__.CNN object at 0x7fda90070e80>>. Note that functions defined in certain environments, like the interactive Python shell, do not expose their source code. If that is the case, you should define them in a .py source file. If you are certain the code is graph-compatible, wrap the call using @tf.autograph.experimental.do_not_convert. Original error: could not get source code\n",
            "\u001b[2m\u001b[36m(launch_and_fit pid=1897)\u001b[0m To silence this warning, decorate the function with @tf.autograph.experimental.do_not_convert\n",
            "\u001b[2m\u001b[36m(launch_and_fit pid=1897)\u001b[0m WARNING:tensorflow:AutoGraph could not transform <bound method CNN.call of <__main__.CNN object at 0x7fda90070e20>> and will run it as-is.\n",
            "\u001b[2m\u001b[36m(launch_and_fit pid=1897)\u001b[0m Cause: Unable to locate the source code of <bound method CNN.call of <__main__.CNN object at 0x7fda90070e20>>. Note that functions defined in certain environments, like the interactive Python shell, do not expose their source code. If that is the case, you should define them in a .py source file. If you are certain the code is graph-compatible, wrap the call using @tf.autograph.experimental.do_not_convert. Original error: could not get source code\n",
            "\u001b[2m\u001b[36m(launch_and_fit pid=1897)\u001b[0m To silence this warning, decorate the function with @tf.autograph.experimental.do_not_convert\n",
            "\u001b[2m\u001b[36m(launch_and_fit pid=1897)\u001b[0m WARNING:tensorflow:AutoGraph could not transform <bound method CNN.call of <__main__.CNN object at 0x7fda90007640>> and will run it as-is.\n",
            "\u001b[2m\u001b[36m(launch_and_fit pid=1897)\u001b[0m Cause: Unable to locate the source code of <bound method CNN.call of <__main__.CNN object at 0x7fda90007640>>. Note that functions defined in certain environments, like the interactive Python shell, do not expose their source code. If that is the case, you should define them in a .py source file. If you are certain the code is graph-compatible, wrap the call using @tf.autograph.experimental.do_not_convert. Original error: could not get source code\n",
            "\u001b[2m\u001b[36m(launch_and_fit pid=1897)\u001b[0m To silence this warning, decorate the function with @tf.autograph.experimental.do_not_convert\n",
            "DEBUG flwr 2023-04-03 10:44:35,973 | server.py:229 | fit_round 2 received 5 results and 0 failures\n",
            "DEBUG:flwr:fit_round 2 received 5 results and 0 failures\n",
            "DEBUG flwr 2023-04-03 10:44:35,997 | server.py:165 | evaluate_round 2: strategy sampled 5 clients (out of 5)\n",
            "DEBUG:flwr:evaluate_round 2: strategy sampled 5 clients (out of 5)\n",
            "\u001b[2m\u001b[36m(launch_and_evaluate pid=1897)\u001b[0m WARNING:tensorflow:AutoGraph could not transform <bound method CNN.call of <__main__.CNN object at 0x7fdc241ad400>> and will run it as-is.\n",
            "\u001b[2m\u001b[36m(launch_and_evaluate pid=1897)\u001b[0m Cause: Unable to locate the source code of <bound method CNN.call of <__main__.CNN object at 0x7fdc241ad400>>. Note that functions defined in certain environments, like the interactive Python shell, do not expose their source code. If that is the case, you should define them in a .py source file. If you are certain the code is graph-compatible, wrap the call using @tf.autograph.experimental.do_not_convert. Original error: could not get source code\n",
            "\u001b[2m\u001b[36m(launch_and_evaluate pid=1897)\u001b[0m To silence this warning, decorate the function with @tf.autograph.experimental.do_not_convert\n",
            "\u001b[2m\u001b[36m(launch_and_evaluate pid=1897)\u001b[0m WARNING:tensorflow:AutoGraph could not transform <bound method CNN.call of <__main__.CNN object at 0x7fda90d735b0>> and will run it as-is.\n",
            "\u001b[2m\u001b[36m(launch_and_evaluate pid=1897)\u001b[0m Cause: Unable to locate the source code of <bound method CNN.call of <__main__.CNN object at 0x7fda90d735b0>>. Note that functions defined in certain environments, like the interactive Python shell, do not expose their source code. If that is the case, you should define them in a .py source file. If you are certain the code is graph-compatible, wrap the call using @tf.autograph.experimental.do_not_convert. Original error: could not get source code\n",
            "\u001b[2m\u001b[36m(launch_and_evaluate pid=1897)\u001b[0m To silence this warning, decorate the function with @tf.autograph.experimental.do_not_convert\n",
            "\u001b[2m\u001b[36m(launch_and_evaluate pid=1897)\u001b[0m WARNING:tensorflow:AutoGraph could not transform <bound method CNN.call of <__main__.CNN object at 0x7fdc241ad3a0>> and will run it as-is.\n",
            "\u001b[2m\u001b[36m(launch_and_evaluate pid=1897)\u001b[0m Cause: Unable to locate the source code of <bound method CNN.call of <__main__.CNN object at 0x7fdc241ad3a0>>. Note that functions defined in certain environments, like the interactive Python shell, do not expose their source code. If that is the case, you should define them in a .py source file. If you are certain the code is graph-compatible, wrap the call using @tf.autograph.experimental.do_not_convert. Original error: could not get source code\n",
            "\u001b[2m\u001b[36m(launch_and_evaluate pid=1897)\u001b[0m To silence this warning, decorate the function with @tf.autograph.experimental.do_not_convert\n",
            "\u001b[2m\u001b[36m(launch_and_evaluate pid=1897)\u001b[0m WARNING:tensorflow:AutoGraph could not transform <bound method CNN.call of <__main__.CNN object at 0x7fdbf00ea1f0>> and will run it as-is.\n",
            "\u001b[2m\u001b[36m(launch_and_evaluate pid=1897)\u001b[0m Cause: Unable to locate the source code of <bound method CNN.call of <__main__.CNN object at 0x7fdbf00ea1f0>>. Note that functions defined in certain environments, like the interactive Python shell, do not expose their source code. If that is the case, you should define them in a .py source file. If you are certain the code is graph-compatible, wrap the call using @tf.autograph.experimental.do_not_convert. Original error: could not get source code\n",
            "\u001b[2m\u001b[36m(launch_and_evaluate pid=1897)\u001b[0m To silence this warning, decorate the function with @tf.autograph.experimental.do_not_convert\n",
            "\u001b[2m\u001b[36m(launch_and_evaluate pid=1897)\u001b[0m WARNING:tensorflow:AutoGraph could not transform <bound method CNN.call of <__main__.CNN object at 0x7fda911c1b20>> and will run it as-is.\n",
            "\u001b[2m\u001b[36m(launch_and_evaluate pid=1897)\u001b[0m Cause: Unable to locate the source code of <bound method CNN.call of <__main__.CNN object at 0x7fda911c1b20>>. Note that functions defined in certain environments, like the interactive Python shell, do not expose their source code. If that is the case, you should define them in a .py source file. If you are certain the code is graph-compatible, wrap the call using @tf.autograph.experimental.do_not_convert. Original error: could not get source code\n",
            "\u001b[2m\u001b[36m(launch_and_evaluate pid=1897)\u001b[0m To silence this warning, decorate the function with @tf.autograph.experimental.do_not_convert\n",
            "DEBUG flwr 2023-04-03 10:44:58,408 | server.py:179 | evaluate_round 2 received 5 results and 0 failures\n",
            "DEBUG:flwr:evaluate_round 2 received 5 results and 0 failures\n",
            "DEBUG flwr 2023-04-03 10:44:58,417 | server.py:215 | fit_round 3: strategy sampled 5 clients (out of 5)\n",
            "DEBUG:flwr:fit_round 3: strategy sampled 5 clients (out of 5)\n"
          ]
        },
        {
          "output_type": "stream",
          "name": "stdout",
          "text": [
            "[(2400, {'accuracy': 0.9754166603088379}), (2400, {'accuracy': 0.9800000190734863}), (2400, {'accuracy': 0.972083330154419}), (2400, {'accuracy': 0.9670833349227905}), (2400, {'accuracy': 0.9741666913032532})]\n"
          ]
        },
        {
          "output_type": "stream",
          "name": "stderr",
          "text": [
            "\u001b[2m\u001b[36m(launch_and_fit pid=1897)\u001b[0m WARNING:tensorflow:AutoGraph could not transform <bound method CNN.call of <__main__.CNN object at 0x7fda8ff2bdf0>> and will run it as-is.\n",
            "\u001b[2m\u001b[36m(launch_and_fit pid=1897)\u001b[0m Cause: Unable to locate the source code of <bound method CNN.call of <__main__.CNN object at 0x7fda8ff2bdf0>>. Note that functions defined in certain environments, like the interactive Python shell, do not expose their source code. If that is the case, you should define them in a .py source file. If you are certain the code is graph-compatible, wrap the call using @tf.autograph.experimental.do_not_convert. Original error: could not get source code\n",
            "\u001b[2m\u001b[36m(launch_and_fit pid=1897)\u001b[0m To silence this warning, decorate the function with @tf.autograph.experimental.do_not_convert\n",
            "\u001b[2m\u001b[36m(launch_and_fit pid=1897)\u001b[0m WARNING:tensorflow:AutoGraph could not transform <bound method CNN.call of <__main__.CNN object at 0x7fda90f93b50>> and will run it as-is.\n",
            "\u001b[2m\u001b[36m(launch_and_fit pid=1897)\u001b[0m Cause: Unable to locate the source code of <bound method CNN.call of <__main__.CNN object at 0x7fda90f93b50>>. Note that functions defined in certain environments, like the interactive Python shell, do not expose their source code. If that is the case, you should define them in a .py source file. If you are certain the code is graph-compatible, wrap the call using @tf.autograph.experimental.do_not_convert. Original error: could not get source code\n",
            "\u001b[2m\u001b[36m(launch_and_fit pid=1897)\u001b[0m To silence this warning, decorate the function with @tf.autograph.experimental.do_not_convert\n",
            "\u001b[2m\u001b[36m(launch_and_fit pid=1897)\u001b[0m WARNING:tensorflow:AutoGraph could not transform <bound method CNN.call of <__main__.CNN object at 0x7fda911c1100>> and will run it as-is.\n",
            "\u001b[2m\u001b[36m(launch_and_fit pid=1897)\u001b[0m Cause: Unable to locate the source code of <bound method CNN.call of <__main__.CNN object at 0x7fda911c1100>>. Note that functions defined in certain environments, like the interactive Python shell, do not expose their source code. If that is the case, you should define them in a .py source file. If you are certain the code is graph-compatible, wrap the call using @tf.autograph.experimental.do_not_convert. Original error: could not get source code\n",
            "\u001b[2m\u001b[36m(launch_and_fit pid=1897)\u001b[0m To silence this warning, decorate the function with @tf.autograph.experimental.do_not_convert\n",
            "\u001b[2m\u001b[36m(launch_and_fit pid=1897)\u001b[0m WARNING:tensorflow:AutoGraph could not transform <bound method CNN.call of <__main__.CNN object at 0x7fda90dc2a00>> and will run it as-is.\n",
            "\u001b[2m\u001b[36m(launch_and_fit pid=1897)\u001b[0m Cause: Unable to locate the source code of <bound method CNN.call of <__main__.CNN object at 0x7fda90dc2a00>>. Note that functions defined in certain environments, like the interactive Python shell, do not expose their source code. If that is the case, you should define them in a .py source file. If you are certain the code is graph-compatible, wrap the call using @tf.autograph.experimental.do_not_convert. Original error: could not get source code\n",
            "\u001b[2m\u001b[36m(launch_and_fit pid=1897)\u001b[0m To silence this warning, decorate the function with @tf.autograph.experimental.do_not_convert\n",
            "\u001b[2m\u001b[36m(launch_and_fit pid=1897)\u001b[0m WARNING:tensorflow:AutoGraph could not transform <bound method CNN.call of <__main__.CNN object at 0x7fda90dd4b50>> and will run it as-is.\n",
            "\u001b[2m\u001b[36m(launch_and_fit pid=1897)\u001b[0m Cause: Unable to locate the source code of <bound method CNN.call of <__main__.CNN object at 0x7fda90dd4b50>>. Note that functions defined in certain environments, like the interactive Python shell, do not expose their source code. If that is the case, you should define them in a .py source file. If you are certain the code is graph-compatible, wrap the call using @tf.autograph.experimental.do_not_convert. Original error: could not get source code\n",
            "\u001b[2m\u001b[36m(launch_and_fit pid=1897)\u001b[0m To silence this warning, decorate the function with @tf.autograph.experimental.do_not_convert\n",
            "DEBUG flwr 2023-04-03 10:46:19,445 | server.py:229 | fit_round 3 received 5 results and 0 failures\n",
            "DEBUG:flwr:fit_round 3 received 5 results and 0 failures\n",
            "DEBUG flwr 2023-04-03 10:46:19,484 | server.py:165 | evaluate_round 3: strategy sampled 5 clients (out of 5)\n",
            "DEBUG:flwr:evaluate_round 3: strategy sampled 5 clients (out of 5)\n",
            "\u001b[2m\u001b[36m(launch_and_evaluate pid=1897)\u001b[0m WARNING:tensorflow:AutoGraph could not transform <bound method CNN.call of <__main__.CNN object at 0x7fdc241ad400>> and will run it as-is.\n",
            "\u001b[2m\u001b[36m(launch_and_evaluate pid=1897)\u001b[0m Cause: Unable to locate the source code of <bound method CNN.call of <__main__.CNN object at 0x7fdc241ad400>>. Note that functions defined in certain environments, like the interactive Python shell, do not expose their source code. If that is the case, you should define them in a .py source file. If you are certain the code is graph-compatible, wrap the call using @tf.autograph.experimental.do_not_convert. Original error: could not get source code\n",
            "\u001b[2m\u001b[36m(launch_and_evaluate pid=1897)\u001b[0m To silence this warning, decorate the function with @tf.autograph.experimental.do_not_convert\n",
            "\u001b[2m\u001b[36m(launch_and_evaluate pid=1897)\u001b[0m WARNING:tensorflow:AutoGraph could not transform <bound method CNN.call of <__main__.CNN object at 0x7fdbf00ea280>> and will run it as-is.\n",
            "\u001b[2m\u001b[36m(launch_and_evaluate pid=1897)\u001b[0m Cause: Unable to locate the source code of <bound method CNN.call of <__main__.CNN object at 0x7fdbf00ea280>>. Note that functions defined in certain environments, like the interactive Python shell, do not expose their source code. If that is the case, you should define them in a .py source file. If you are certain the code is graph-compatible, wrap the call using @tf.autograph.experimental.do_not_convert. Original error: could not get source code\n",
            "\u001b[2m\u001b[36m(launch_and_evaluate pid=1897)\u001b[0m To silence this warning, decorate the function with @tf.autograph.experimental.do_not_convert\n",
            "\u001b[2m\u001b[36m(launch_and_evaluate pid=1897)\u001b[0m WARNING:tensorflow:AutoGraph could not transform <bound method CNN.call of <__main__.CNN object at 0x7fda8fe9e3a0>> and will run it as-is.\n",
            "\u001b[2m\u001b[36m(launch_and_evaluate pid=1897)\u001b[0m Cause: Unable to locate the source code of <bound method CNN.call of <__main__.CNN object at 0x7fda8fe9e3a0>>. Note that functions defined in certain environments, like the interactive Python shell, do not expose their source code. If that is the case, you should define them in a .py source file. If you are certain the code is graph-compatible, wrap the call using @tf.autograph.experimental.do_not_convert. Original error: could not get source code\n",
            "\u001b[2m\u001b[36m(launch_and_evaluate pid=1897)\u001b[0m To silence this warning, decorate the function with @tf.autograph.experimental.do_not_convert\n",
            "\u001b[2m\u001b[36m(launch_and_evaluate pid=1897)\u001b[0m WARNING:tensorflow:AutoGraph could not transform <bound method CNN.call of <__main__.CNN object at 0x7fda90dd87c0>> and will run it as-is.\n",
            "\u001b[2m\u001b[36m(launch_and_evaluate pid=1897)\u001b[0m Cause: Unable to locate the source code of <bound method CNN.call of <__main__.CNN object at 0x7fda90dd87c0>>. Note that functions defined in certain environments, like the interactive Python shell, do not expose their source code. If that is the case, you should define them in a .py source file. If you are certain the code is graph-compatible, wrap the call using @tf.autograph.experimental.do_not_convert. Original error: could not get source code\n",
            "\u001b[2m\u001b[36m(launch_and_evaluate pid=1897)\u001b[0m To silence this warning, decorate the function with @tf.autograph.experimental.do_not_convert\n",
            "\u001b[2m\u001b[36m(launch_and_evaluate pid=1897)\u001b[0m WARNING:tensorflow:AutoGraph could not transform <bound method CNN.call of <__main__.CNN object at 0x7fda8ff7b5e0>> and will run it as-is.\n",
            "\u001b[2m\u001b[36m(launch_and_evaluate pid=1897)\u001b[0m Cause: Unable to locate the source code of <bound method CNN.call of <__main__.CNN object at 0x7fda8ff7b5e0>>. Note that functions defined in certain environments, like the interactive Python shell, do not expose their source code. If that is the case, you should define them in a .py source file. If you are certain the code is graph-compatible, wrap the call using @tf.autograph.experimental.do_not_convert. Original error: could not get source code\n",
            "\u001b[2m\u001b[36m(launch_and_evaluate pid=1897)\u001b[0m To silence this warning, decorate the function with @tf.autograph.experimental.do_not_convert\n",
            "DEBUG flwr 2023-04-03 10:46:44,173 | server.py:179 | evaluate_round 3 received 5 results and 0 failures\n",
            "DEBUG:flwr:evaluate_round 3 received 5 results and 0 failures\n",
            "DEBUG flwr 2023-04-03 10:46:44,178 | server.py:215 | fit_round 4: strategy sampled 5 clients (out of 5)\n",
            "DEBUG:flwr:fit_round 4: strategy sampled 5 clients (out of 5)\n"
          ]
        },
        {
          "output_type": "stream",
          "name": "stdout",
          "text": [
            "[(2400, {'accuracy': 0.971666693687439}), (2400, {'accuracy': 0.9820833206176758}), (2400, {'accuracy': 0.9804166555404663}), (2400, {'accuracy': 0.9816666841506958}), (2400, {'accuracy': 0.9866666793823242})]\n"
          ]
        },
        {
          "output_type": "stream",
          "name": "stderr",
          "text": [
            "\u001b[2m\u001b[36m(launch_and_fit pid=1897)\u001b[0m WARNING:tensorflow:AutoGraph could not transform <bound method CNN.call of <__main__.CNN object at 0x7fda8ff6d940>> and will run it as-is.\n",
            "\u001b[2m\u001b[36m(launch_and_fit pid=1897)\u001b[0m Cause: Unable to locate the source code of <bound method CNN.call of <__main__.CNN object at 0x7fda8ff6d940>>. Note that functions defined in certain environments, like the interactive Python shell, do not expose their source code. If that is the case, you should define them in a .py source file. If you are certain the code is graph-compatible, wrap the call using @tf.autograph.experimental.do_not_convert. Original error: could not get source code\n",
            "\u001b[2m\u001b[36m(launch_and_fit pid=1897)\u001b[0m To silence this warning, decorate the function with @tf.autograph.experimental.do_not_convert\n",
            "\u001b[2m\u001b[36m(launch_and_fit pid=1897)\u001b[0m WARNING:tensorflow:AutoGraph could not transform <bound method CNN.call of <__main__.CNN object at 0x7fda90dd4040>> and will run it as-is.\n",
            "\u001b[2m\u001b[36m(launch_and_fit pid=1897)\u001b[0m Cause: Unable to locate the source code of <bound method CNN.call of <__main__.CNN object at 0x7fda90dd4040>>. Note that functions defined in certain environments, like the interactive Python shell, do not expose their source code. If that is the case, you should define them in a .py source file. If you are certain the code is graph-compatible, wrap the call using @tf.autograph.experimental.do_not_convert. Original error: could not get source code\n",
            "\u001b[2m\u001b[36m(launch_and_fit pid=1897)\u001b[0m To silence this warning, decorate the function with @tf.autograph.experimental.do_not_convert\n",
            "\u001b[2m\u001b[36m(launch_and_fit pid=1897)\u001b[0m WARNING:tensorflow:AutoGraph could not transform <bound method CNN.call of <__main__.CNN object at 0x7fda90f9cbb0>> and will run it as-is.\n",
            "\u001b[2m\u001b[36m(launch_and_fit pid=1897)\u001b[0m Cause: Unable to locate the source code of <bound method CNN.call of <__main__.CNN object at 0x7fda90f9cbb0>>. Note that functions defined in certain environments, like the interactive Python shell, do not expose their source code. If that is the case, you should define them in a .py source file. If you are certain the code is graph-compatible, wrap the call using @tf.autograph.experimental.do_not_convert. Original error: could not get source code\n",
            "\u001b[2m\u001b[36m(launch_and_fit pid=1897)\u001b[0m To silence this warning, decorate the function with @tf.autograph.experimental.do_not_convert\n",
            "\u001b[2m\u001b[36m(launch_and_fit pid=1897)\u001b[0m WARNING:tensorflow:AutoGraph could not transform <bound method CNN.call of <__main__.CNN object at 0x7fda90f9c730>> and will run it as-is.\n",
            "\u001b[2m\u001b[36m(launch_and_fit pid=1897)\u001b[0m Cause: Unable to locate the source code of <bound method CNN.call of <__main__.CNN object at 0x7fda90f9c730>>. Note that functions defined in certain environments, like the interactive Python shell, do not expose their source code. If that is the case, you should define them in a .py source file. If you are certain the code is graph-compatible, wrap the call using @tf.autograph.experimental.do_not_convert. Original error: could not get source code\n",
            "\u001b[2m\u001b[36m(launch_and_fit pid=1897)\u001b[0m To silence this warning, decorate the function with @tf.autograph.experimental.do_not_convert\n",
            "\u001b[2m\u001b[36m(launch_and_fit pid=1897)\u001b[0m WARNING:tensorflow:AutoGraph could not transform <bound method CNN.call of <__main__.CNN object at 0x7fda90005f70>> and will run it as-is.\n",
            "\u001b[2m\u001b[36m(launch_and_fit pid=1897)\u001b[0m Cause: Unable to locate the source code of <bound method CNN.call of <__main__.CNN object at 0x7fda90005f70>>. Note that functions defined in certain environments, like the interactive Python shell, do not expose their source code. If that is the case, you should define them in a .py source file. If you are certain the code is graph-compatible, wrap the call using @tf.autograph.experimental.do_not_convert. Original error: could not get source code\n",
            "\u001b[2m\u001b[36m(launch_and_fit pid=1897)\u001b[0m To silence this warning, decorate the function with @tf.autograph.experimental.do_not_convert\n",
            "DEBUG flwr 2023-04-03 10:48:02,660 | server.py:229 | fit_round 4 received 5 results and 0 failures\n",
            "DEBUG:flwr:fit_round 4 received 5 results and 0 failures\n",
            "DEBUG flwr 2023-04-03 10:48:02,700 | server.py:165 | evaluate_round 4: strategy sampled 5 clients (out of 5)\n",
            "DEBUG:flwr:evaluate_round 4: strategy sampled 5 clients (out of 5)\n",
            "\u001b[2m\u001b[36m(launch_and_evaluate pid=1897)\u001b[0m WARNING:tensorflow:AutoGraph could not transform <bound method CNN.call of <__main__.CNN object at 0x7fda90d38880>> and will run it as-is.\n",
            "\u001b[2m\u001b[36m(launch_and_evaluate pid=1897)\u001b[0m Cause: Unable to locate the source code of <bound method CNN.call of <__main__.CNN object at 0x7fda90d38880>>. Note that functions defined in certain environments, like the interactive Python shell, do not expose their source code. If that is the case, you should define them in a .py source file. If you are certain the code is graph-compatible, wrap the call using @tf.autograph.experimental.do_not_convert. Original error: could not get source code\n",
            "\u001b[2m\u001b[36m(launch_and_evaluate pid=1897)\u001b[0m To silence this warning, decorate the function with @tf.autograph.experimental.do_not_convert\n",
            "\u001b[2m\u001b[36m(launch_and_evaluate pid=1897)\u001b[0m WARNING:tensorflow:AutoGraph could not transform <bound method CNN.call of <__main__.CNN object at 0x7fda90d380a0>> and will run it as-is.\n",
            "\u001b[2m\u001b[36m(launch_and_evaluate pid=1897)\u001b[0m Cause: Unable to locate the source code of <bound method CNN.call of <__main__.CNN object at 0x7fda90d380a0>>. Note that functions defined in certain environments, like the interactive Python shell, do not expose their source code. If that is the case, you should define them in a .py source file. If you are certain the code is graph-compatible, wrap the call using @tf.autograph.experimental.do_not_convert. Original error: could not get source code\n",
            "\u001b[2m\u001b[36m(launch_and_evaluate pid=1897)\u001b[0m To silence this warning, decorate the function with @tf.autograph.experimental.do_not_convert\n",
            "\u001b[2m\u001b[36m(launch_and_evaluate pid=1897)\u001b[0m WARNING:tensorflow:AutoGraph could not transform <bound method CNN.call of <__main__.CNN object at 0x7fda90e59310>> and will run it as-is.\n",
            "\u001b[2m\u001b[36m(launch_and_evaluate pid=1897)\u001b[0m Cause: Unable to locate the source code of <bound method CNN.call of <__main__.CNN object at 0x7fda90e59310>>. Note that functions defined in certain environments, like the interactive Python shell, do not expose their source code. If that is the case, you should define them in a .py source file. If you are certain the code is graph-compatible, wrap the call using @tf.autograph.experimental.do_not_convert. Original error: could not get source code\n",
            "\u001b[2m\u001b[36m(launch_and_evaluate pid=1897)\u001b[0m To silence this warning, decorate the function with @tf.autograph.experimental.do_not_convert\n",
            "\u001b[2m\u001b[36m(launch_and_evaluate pid=1897)\u001b[0m WARNING:tensorflow:AutoGraph could not transform <bound method CNN.call of <__main__.CNN object at 0x7fdc241ad490>> and will run it as-is.\n",
            "\u001b[2m\u001b[36m(launch_and_evaluate pid=1897)\u001b[0m Cause: Unable to locate the source code of <bound method CNN.call of <__main__.CNN object at 0x7fdc241ad490>>. Note that functions defined in certain environments, like the interactive Python shell, do not expose their source code. If that is the case, you should define them in a .py source file. If you are certain the code is graph-compatible, wrap the call using @tf.autograph.experimental.do_not_convert. Original error: could not get source code\n",
            "\u001b[2m\u001b[36m(launch_and_evaluate pid=1897)\u001b[0m To silence this warning, decorate the function with @tf.autograph.experimental.do_not_convert\n",
            "\u001b[2m\u001b[36m(launch_and_evaluate pid=1897)\u001b[0m WARNING:tensorflow:AutoGraph could not transform <bound method CNN.call of <__main__.CNN object at 0x7fda90e67730>> and will run it as-is.\n",
            "\u001b[2m\u001b[36m(launch_and_evaluate pid=1897)\u001b[0m Cause: Unable to locate the source code of <bound method CNN.call of <__main__.CNN object at 0x7fda90e67730>>. Note that functions defined in certain environments, like the interactive Python shell, do not expose their source code. If that is the case, you should define them in a .py source file. If you are certain the code is graph-compatible, wrap the call using @tf.autograph.experimental.do_not_convert. Original error: could not get source code\n",
            "\u001b[2m\u001b[36m(launch_and_evaluate pid=1897)\u001b[0m To silence this warning, decorate the function with @tf.autograph.experimental.do_not_convert\n",
            "DEBUG flwr 2023-04-03 10:48:27,221 | server.py:179 | evaluate_round 4 received 5 results and 0 failures\n",
            "DEBUG:flwr:evaluate_round 4 received 5 results and 0 failures\n",
            "DEBUG flwr 2023-04-03 10:48:27,231 | server.py:215 | fit_round 5: strategy sampled 5 clients (out of 5)\n",
            "DEBUG:flwr:fit_round 5: strategy sampled 5 clients (out of 5)\n"
          ]
        },
        {
          "output_type": "stream",
          "name": "stdout",
          "text": [
            "[(2400, {'accuracy': 0.9825000166893005}), (2400, {'accuracy': 0.9850000143051147}), (2400, {'accuracy': 0.98416668176651}), (2400, {'accuracy': 0.9745833277702332}), (2400, {'accuracy': 0.9895833134651184})]\n"
          ]
        },
        {
          "output_type": "stream",
          "name": "stderr",
          "text": [
            "\u001b[2m\u001b[36m(launch_and_fit pid=1897)\u001b[0m WARNING:tensorflow:AutoGraph could not transform <bound method CNN.call of <__main__.CNN object at 0x7fda8ff71df0>> and will run it as-is.\n",
            "\u001b[2m\u001b[36m(launch_and_fit pid=1897)\u001b[0m Cause: Unable to locate the source code of <bound method CNN.call of <__main__.CNN object at 0x7fda8ff71df0>>. Note that functions defined in certain environments, like the interactive Python shell, do not expose their source code. If that is the case, you should define them in a .py source file. If you are certain the code is graph-compatible, wrap the call using @tf.autograph.experimental.do_not_convert. Original error: could not get source code\n",
            "\u001b[2m\u001b[36m(launch_and_fit pid=1897)\u001b[0m To silence this warning, decorate the function with @tf.autograph.experimental.do_not_convert\n",
            "\u001b[2m\u001b[36m(launch_and_fit pid=1897)\u001b[0m WARNING:tensorflow:AutoGraph could not transform <bound method CNN.call of <__main__.CNN object at 0x7fda91077910>> and will run it as-is.\n",
            "\u001b[2m\u001b[36m(launch_and_fit pid=1897)\u001b[0m Cause: Unable to locate the source code of <bound method CNN.call of <__main__.CNN object at 0x7fda91077910>>. Note that functions defined in certain environments, like the interactive Python shell, do not expose their source code. If that is the case, you should define them in a .py source file. If you are certain the code is graph-compatible, wrap the call using @tf.autograph.experimental.do_not_convert. Original error: could not get source code\n",
            "\u001b[2m\u001b[36m(launch_and_fit pid=1897)\u001b[0m To silence this warning, decorate the function with @tf.autograph.experimental.do_not_convert\n",
            "\u001b[2m\u001b[36m(launch_and_fit pid=1897)\u001b[0m WARNING:tensorflow:AutoGraph could not transform <bound method CNN.call of <__main__.CNN object at 0x7fda900d00d0>> and will run it as-is.\n",
            "\u001b[2m\u001b[36m(launch_and_fit pid=1897)\u001b[0m Cause: Unable to locate the source code of <bound method CNN.call of <__main__.CNN object at 0x7fda900d00d0>>. Note that functions defined in certain environments, like the interactive Python shell, do not expose their source code. If that is the case, you should define them in a .py source file. If you are certain the code is graph-compatible, wrap the call using @tf.autograph.experimental.do_not_convert. Original error: could not get source code\n",
            "\u001b[2m\u001b[36m(launch_and_fit pid=1897)\u001b[0m To silence this warning, decorate the function with @tf.autograph.experimental.do_not_convert\n",
            "\u001b[2m\u001b[36m(launch_and_fit pid=1897)\u001b[0m WARNING:tensorflow:AutoGraph could not transform <bound method CNN.call of <__main__.CNN object at 0x7fda8fecda00>> and will run it as-is.\n",
            "\u001b[2m\u001b[36m(launch_and_fit pid=1897)\u001b[0m Cause: Unable to locate the source code of <bound method CNN.call of <__main__.CNN object at 0x7fda8fecda00>>. Note that functions defined in certain environments, like the interactive Python shell, do not expose their source code. If that is the case, you should define them in a .py source file. If you are certain the code is graph-compatible, wrap the call using @tf.autograph.experimental.do_not_convert. Original error: could not get source code\n",
            "\u001b[2m\u001b[36m(launch_and_fit pid=1897)\u001b[0m To silence this warning, decorate the function with @tf.autograph.experimental.do_not_convert\n",
            "\u001b[2m\u001b[36m(launch_and_fit pid=1897)\u001b[0m WARNING:tensorflow:AutoGraph could not transform <bound method CNN.call of <__main__.CNN object at 0x7fda8ff14eb0>> and will run it as-is.\n",
            "\u001b[2m\u001b[36m(launch_and_fit pid=1897)\u001b[0m Cause: Unable to locate the source code of <bound method CNN.call of <__main__.CNN object at 0x7fda8ff14eb0>>. Note that functions defined in certain environments, like the interactive Python shell, do not expose their source code. If that is the case, you should define them in a .py source file. If you are certain the code is graph-compatible, wrap the call using @tf.autograph.experimental.do_not_convert. Original error: could not get source code\n",
            "\u001b[2m\u001b[36m(launch_and_fit pid=1897)\u001b[0m To silence this warning, decorate the function with @tf.autograph.experimental.do_not_convert\n",
            "DEBUG flwr 2023-04-03 10:49:48,033 | server.py:229 | fit_round 5 received 5 results and 0 failures\n",
            "DEBUG:flwr:fit_round 5 received 5 results and 0 failures\n",
            "DEBUG flwr 2023-04-03 10:49:48,077 | server.py:165 | evaluate_round 5: strategy sampled 5 clients (out of 5)\n",
            "DEBUG:flwr:evaluate_round 5: strategy sampled 5 clients (out of 5)\n",
            "\u001b[2m\u001b[36m(launch_and_evaluate pid=1897)\u001b[0m WARNING:tensorflow:AutoGraph could not transform <bound method CNN.call of <__main__.CNN object at 0x7fda8ffe2d90>> and will run it as-is.\n",
            "\u001b[2m\u001b[36m(launch_and_evaluate pid=1897)\u001b[0m Cause: Unable to locate the source code of <bound method CNN.call of <__main__.CNN object at 0x7fda8ffe2d90>>. Note that functions defined in certain environments, like the interactive Python shell, do not expose their source code. If that is the case, you should define them in a .py source file. If you are certain the code is graph-compatible, wrap the call using @tf.autograph.experimental.do_not_convert. Original error: could not get source code\n",
            "\u001b[2m\u001b[36m(launch_and_evaluate pid=1897)\u001b[0m To silence this warning, decorate the function with @tf.autograph.experimental.do_not_convert\n",
            "\u001b[2m\u001b[36m(launch_and_evaluate pid=1897)\u001b[0m WARNING:tensorflow:AutoGraph could not transform <bound method CNN.call of <__main__.CNN object at 0x7fda90d69280>> and will run it as-is.\n",
            "\u001b[2m\u001b[36m(launch_and_evaluate pid=1897)\u001b[0m Cause: Unable to locate the source code of <bound method CNN.call of <__main__.CNN object at 0x7fda90d69280>>. Note that functions defined in certain environments, like the interactive Python shell, do not expose their source code. If that is the case, you should define them in a .py source file. If you are certain the code is graph-compatible, wrap the call using @tf.autograph.experimental.do_not_convert. Original error: could not get source code\n",
            "\u001b[2m\u001b[36m(launch_and_evaluate pid=1897)\u001b[0m To silence this warning, decorate the function with @tf.autograph.experimental.do_not_convert\n",
            "\u001b[2m\u001b[36m(launch_and_evaluate pid=1897)\u001b[0m WARNING:tensorflow:AutoGraph could not transform <bound method CNN.call of <__main__.CNN object at 0x7fda8ffe2310>> and will run it as-is.\n",
            "\u001b[2m\u001b[36m(launch_and_evaluate pid=1897)\u001b[0m Cause: Unable to locate the source code of <bound method CNN.call of <__main__.CNN object at 0x7fda8ffe2310>>. Note that functions defined in certain environments, like the interactive Python shell, do not expose their source code. If that is the case, you should define them in a .py source file. If you are certain the code is graph-compatible, wrap the call using @tf.autograph.experimental.do_not_convert. Original error: could not get source code\n",
            "\u001b[2m\u001b[36m(launch_and_evaluate pid=1897)\u001b[0m To silence this warning, decorate the function with @tf.autograph.experimental.do_not_convert\n",
            "\u001b[2m\u001b[36m(launch_and_evaluate pid=1897)\u001b[0m WARNING:tensorflow:AutoGraph could not transform <bound method CNN.call of <__main__.CNN object at 0x7fda8ffe2f70>> and will run it as-is.\n",
            "\u001b[2m\u001b[36m(launch_and_evaluate pid=1897)\u001b[0m Cause: Unable to locate the source code of <bound method CNN.call of <__main__.CNN object at 0x7fda8ffe2f70>>. Note that functions defined in certain environments, like the interactive Python shell, do not expose their source code. If that is the case, you should define them in a .py source file. If you are certain the code is graph-compatible, wrap the call using @tf.autograph.experimental.do_not_convert. Original error: could not get source code\n",
            "\u001b[2m\u001b[36m(launch_and_evaluate pid=1897)\u001b[0m To silence this warning, decorate the function with @tf.autograph.experimental.do_not_convert\n",
            "\u001b[2m\u001b[36m(launch_and_evaluate pid=1897)\u001b[0m WARNING:tensorflow:AutoGraph could not transform <bound method CNN.call of <__main__.CNN object at 0x7fda90ebceb0>> and will run it as-is.\n",
            "\u001b[2m\u001b[36m(launch_and_evaluate pid=1897)\u001b[0m Cause: Unable to locate the source code of <bound method CNN.call of <__main__.CNN object at 0x7fda90ebceb0>>. Note that functions defined in certain environments, like the interactive Python shell, do not expose their source code. If that is the case, you should define them in a .py source file. If you are certain the code is graph-compatible, wrap the call using @tf.autograph.experimental.do_not_convert. Original error: could not get source code\n",
            "\u001b[2m\u001b[36m(launch_and_evaluate pid=1897)\u001b[0m To silence this warning, decorate the function with @tf.autograph.experimental.do_not_convert\n",
            "DEBUG flwr 2023-04-03 10:50:12,106 | server.py:179 | evaluate_round 5 received 5 results and 0 failures\n",
            "DEBUG:flwr:evaluate_round 5 received 5 results and 0 failures\n",
            "DEBUG flwr 2023-04-03 10:50:12,111 | server.py:215 | fit_round 6: strategy sampled 5 clients (out of 5)\n",
            "DEBUG:flwr:fit_round 6: strategy sampled 5 clients (out of 5)\n"
          ]
        },
        {
          "output_type": "stream",
          "name": "stdout",
          "text": [
            "[(2400, {'accuracy': 0.9854166507720947}), (2400, {'accuracy': 0.9850000143051147}), (2400, {'accuracy': 0.9770833253860474}), (2400, {'accuracy': 0.98458331823349}), (2400, {'accuracy': 0.9900000095367432})]\n"
          ]
        },
        {
          "output_type": "stream",
          "name": "stderr",
          "text": [
            "\u001b[2m\u001b[36m(launch_and_fit pid=1897)\u001b[0m WARNING:tensorflow:AutoGraph could not transform <bound method CNN.call of <__main__.CNN object at 0x7fda8ff31a30>> and will run it as-is.\n",
            "\u001b[2m\u001b[36m(launch_and_fit pid=1897)\u001b[0m Cause: Unable to locate the source code of <bound method CNN.call of <__main__.CNN object at 0x7fda8ff31a30>>. Note that functions defined in certain environments, like the interactive Python shell, do not expose their source code. If that is the case, you should define them in a .py source file. If you are certain the code is graph-compatible, wrap the call using @tf.autograph.experimental.do_not_convert. Original error: could not get source code\n",
            "\u001b[2m\u001b[36m(launch_and_fit pid=1897)\u001b[0m To silence this warning, decorate the function with @tf.autograph.experimental.do_not_convert\n",
            "\u001b[2m\u001b[36m(launch_and_fit pid=1897)\u001b[0m WARNING:tensorflow:AutoGraph could not transform <bound method CNN.call of <__main__.CNN object at 0x7fda910ad940>> and will run it as-is.\n",
            "\u001b[2m\u001b[36m(launch_and_fit pid=1897)\u001b[0m Cause: Unable to locate the source code of <bound method CNN.call of <__main__.CNN object at 0x7fda910ad940>>. Note that functions defined in certain environments, like the interactive Python shell, do not expose their source code. If that is the case, you should define them in a .py source file. If you are certain the code is graph-compatible, wrap the call using @tf.autograph.experimental.do_not_convert. Original error: could not get source code\n",
            "\u001b[2m\u001b[36m(launch_and_fit pid=1897)\u001b[0m To silence this warning, decorate the function with @tf.autograph.experimental.do_not_convert\n",
            "\u001b[2m\u001b[36m(launch_and_fit pid=1897)\u001b[0m WARNING:tensorflow:AutoGraph could not transform <bound method CNN.call of <__main__.CNN object at 0x7fda910737c0>> and will run it as-is.\n",
            "\u001b[2m\u001b[36m(launch_and_fit pid=1897)\u001b[0m Cause: Unable to locate the source code of <bound method CNN.call of <__main__.CNN object at 0x7fda910737c0>>. Note that functions defined in certain environments, like the interactive Python shell, do not expose their source code. If that is the case, you should define them in a .py source file. If you are certain the code is graph-compatible, wrap the call using @tf.autograph.experimental.do_not_convert. Original error: could not get source code\n",
            "\u001b[2m\u001b[36m(launch_and_fit pid=1897)\u001b[0m To silence this warning, decorate the function with @tf.autograph.experimental.do_not_convert\n",
            "\u001b[2m\u001b[36m(launch_and_fit pid=1897)\u001b[0m WARNING:tensorflow:AutoGraph could not transform <bound method CNN.call of <__main__.CNN object at 0x7fdc0c09dfd0>> and will run it as-is.\n",
            "\u001b[2m\u001b[36m(launch_and_fit pid=1897)\u001b[0m Cause: Unable to locate the source code of <bound method CNN.call of <__main__.CNN object at 0x7fdc0c09dfd0>>. Note that functions defined in certain environments, like the interactive Python shell, do not expose their source code. If that is the case, you should define them in a .py source file. If you are certain the code is graph-compatible, wrap the call using @tf.autograph.experimental.do_not_convert. Original error: could not get source code\n",
            "\u001b[2m\u001b[36m(launch_and_fit pid=1897)\u001b[0m To silence this warning, decorate the function with @tf.autograph.experimental.do_not_convert\n",
            "\u001b[2m\u001b[36m(launch_and_fit pid=1897)\u001b[0m WARNING:tensorflow:AutoGraph could not transform <bound method CNN.call of <__main__.CNN object at 0x7fda90007fa0>> and will run it as-is.\n",
            "\u001b[2m\u001b[36m(launch_and_fit pid=1897)\u001b[0m Cause: Unable to locate the source code of <bound method CNN.call of <__main__.CNN object at 0x7fda90007fa0>>. Note that functions defined in certain environments, like the interactive Python shell, do not expose their source code. If that is the case, you should define them in a .py source file. If you are certain the code is graph-compatible, wrap the call using @tf.autograph.experimental.do_not_convert. Original error: could not get source code\n",
            "\u001b[2m\u001b[36m(launch_and_fit pid=1897)\u001b[0m To silence this warning, decorate the function with @tf.autograph.experimental.do_not_convert\n",
            "DEBUG flwr 2023-04-03 10:51:32,640 | server.py:229 | fit_round 6 received 5 results and 0 failures\n",
            "DEBUG:flwr:fit_round 6 received 5 results and 0 failures\n",
            "DEBUG flwr 2023-04-03 10:51:32,685 | server.py:165 | evaluate_round 6: strategy sampled 5 clients (out of 5)\n",
            "DEBUG:flwr:evaluate_round 6: strategy sampled 5 clients (out of 5)\n",
            "\u001b[2m\u001b[36m(launch_and_evaluate pid=1897)\u001b[0m WARNING:tensorflow:AutoGraph could not transform <bound method CNN.call of <__main__.CNN object at 0x7fda910fdd60>> and will run it as-is.\n",
            "\u001b[2m\u001b[36m(launch_and_evaluate pid=1897)\u001b[0m Cause: Unable to locate the source code of <bound method CNN.call of <__main__.CNN object at 0x7fda910fdd60>>. Note that functions defined in certain environments, like the interactive Python shell, do not expose their source code. If that is the case, you should define them in a .py source file. If you are certain the code is graph-compatible, wrap the call using @tf.autograph.experimental.do_not_convert. Original error: could not get source code\n",
            "\u001b[2m\u001b[36m(launch_and_evaluate pid=1897)\u001b[0m To silence this warning, decorate the function with @tf.autograph.experimental.do_not_convert\n",
            "\u001b[2m\u001b[36m(launch_and_evaluate pid=1897)\u001b[0m WARNING:tensorflow:AutoGraph could not transform <bound method CNN.call of <__main__.CNN object at 0x7fdc0c09dc70>> and will run it as-is.\n",
            "\u001b[2m\u001b[36m(launch_and_evaluate pid=1897)\u001b[0m Cause: Unable to locate the source code of <bound method CNN.call of <__main__.CNN object at 0x7fdc0c09dc70>>. Note that functions defined in certain environments, like the interactive Python shell, do not expose their source code. If that is the case, you should define them in a .py source file. If you are certain the code is graph-compatible, wrap the call using @tf.autograph.experimental.do_not_convert. Original error: could not get source code\n",
            "\u001b[2m\u001b[36m(launch_and_evaluate pid=1897)\u001b[0m To silence this warning, decorate the function with @tf.autograph.experimental.do_not_convert\n",
            "\u001b[2m\u001b[36m(launch_and_evaluate pid=1897)\u001b[0m WARNING:tensorflow:AutoGraph could not transform <bound method CNN.call of <__main__.CNN object at 0x7fda900c45e0>> and will run it as-is.\n",
            "\u001b[2m\u001b[36m(launch_and_evaluate pid=1897)\u001b[0m Cause: Unable to locate the source code of <bound method CNN.call of <__main__.CNN object at 0x7fda900c45e0>>. Note that functions defined in certain environments, like the interactive Python shell, do not expose their source code. If that is the case, you should define them in a .py source file. If you are certain the code is graph-compatible, wrap the call using @tf.autograph.experimental.do_not_convert. Original error: could not get source code\n",
            "\u001b[2m\u001b[36m(launch_and_evaluate pid=1897)\u001b[0m To silence this warning, decorate the function with @tf.autograph.experimental.do_not_convert\n",
            "\u001b[2m\u001b[36m(launch_and_evaluate pid=1897)\u001b[0m WARNING:tensorflow:AutoGraph could not transform <bound method CNN.call of <__main__.CNN object at 0x7fda910fde50>> and will run it as-is.\n",
            "\u001b[2m\u001b[36m(launch_and_evaluate pid=1897)\u001b[0m Cause: Unable to locate the source code of <bound method CNN.call of <__main__.CNN object at 0x7fda910fde50>>. Note that functions defined in certain environments, like the interactive Python shell, do not expose their source code. If that is the case, you should define them in a .py source file. If you are certain the code is graph-compatible, wrap the call using @tf.autograph.experimental.do_not_convert. Original error: could not get source code\n",
            "\u001b[2m\u001b[36m(launch_and_evaluate pid=1897)\u001b[0m To silence this warning, decorate the function with @tf.autograph.experimental.do_not_convert\n",
            "\u001b[2m\u001b[36m(launch_and_evaluate pid=1897)\u001b[0m WARNING:tensorflow:AutoGraph could not transform <bound method CNN.call of <__main__.CNN object at 0x7fda910fd6d0>> and will run it as-is.\n",
            "\u001b[2m\u001b[36m(launch_and_evaluate pid=1897)\u001b[0m Cause: Unable to locate the source code of <bound method CNN.call of <__main__.CNN object at 0x7fda910fd6d0>>. Note that functions defined in certain environments, like the interactive Python shell, do not expose their source code. If that is the case, you should define them in a .py source file. If you are certain the code is graph-compatible, wrap the call using @tf.autograph.experimental.do_not_convert. Original error: could not get source code\n",
            "\u001b[2m\u001b[36m(launch_and_evaluate pid=1897)\u001b[0m To silence this warning, decorate the function with @tf.autograph.experimental.do_not_convert\n",
            "DEBUG flwr 2023-04-03 10:51:56,710 | server.py:179 | evaluate_round 6 received 5 results and 0 failures\n",
            "DEBUG:flwr:evaluate_round 6 received 5 results and 0 failures\n",
            "DEBUG flwr 2023-04-03 10:51:56,721 | server.py:215 | fit_round 7: strategy sampled 5 clients (out of 5)\n",
            "DEBUG:flwr:fit_round 7: strategy sampled 5 clients (out of 5)\n"
          ]
        },
        {
          "output_type": "stream",
          "name": "stdout",
          "text": [
            "[(2400, {'accuracy': 0.9854166507720947}), (2400, {'accuracy': 0.9837499856948853}), (2400, {'accuracy': 0.9762499928474426}), (2400, {'accuracy': 0.987500011920929}), (2400, {'accuracy': 0.9879166483879089})]\n"
          ]
        },
        {
          "output_type": "stream",
          "name": "stderr",
          "text": [
            "\u001b[2m\u001b[36m(launch_and_fit pid=1897)\u001b[0m WARNING:tensorflow:AutoGraph could not transform <bound method CNN.call of <__main__.CNN object at 0x7fda90f44670>> and will run it as-is.\n",
            "\u001b[2m\u001b[36m(launch_and_fit pid=1897)\u001b[0m Cause: Unable to locate the source code of <bound method CNN.call of <__main__.CNN object at 0x7fda90f44670>>. Note that functions defined in certain environments, like the interactive Python shell, do not expose their source code. If that is the case, you should define them in a .py source file. If you are certain the code is graph-compatible, wrap the call using @tf.autograph.experimental.do_not_convert. Original error: could not get source code\n",
            "\u001b[2m\u001b[36m(launch_and_fit pid=1897)\u001b[0m To silence this warning, decorate the function with @tf.autograph.experimental.do_not_convert\n",
            "\u001b[2m\u001b[36m(launch_and_fit pid=1897)\u001b[0m WARNING:tensorflow:AutoGraph could not transform <bound method CNN.call of <__main__.CNN object at 0x7fda90d29310>> and will run it as-is.\n",
            "\u001b[2m\u001b[36m(launch_and_fit pid=1897)\u001b[0m Cause: Unable to locate the source code of <bound method CNN.call of <__main__.CNN object at 0x7fda90d29310>>. Note that functions defined in certain environments, like the interactive Python shell, do not expose their source code. If that is the case, you should define them in a .py source file. If you are certain the code is graph-compatible, wrap the call using @tf.autograph.experimental.do_not_convert. Original error: could not get source code\n",
            "\u001b[2m\u001b[36m(launch_and_fit pid=1897)\u001b[0m To silence this warning, decorate the function with @tf.autograph.experimental.do_not_convert\n",
            "\u001b[2m\u001b[36m(launch_and_fit pid=1897)\u001b[0m WARNING:tensorflow:AutoGraph could not transform <bound method CNN.call of <__main__.CNN object at 0x7fda90f686d0>> and will run it as-is.\n",
            "\u001b[2m\u001b[36m(launch_and_fit pid=1897)\u001b[0m Cause: Unable to locate the source code of <bound method CNN.call of <__main__.CNN object at 0x7fda90f686d0>>. Note that functions defined in certain environments, like the interactive Python shell, do not expose their source code. If that is the case, you should define them in a .py source file. If you are certain the code is graph-compatible, wrap the call using @tf.autograph.experimental.do_not_convert. Original error: could not get source code\n",
            "\u001b[2m\u001b[36m(launch_and_fit pid=1897)\u001b[0m To silence this warning, decorate the function with @tf.autograph.experimental.do_not_convert\n",
            "\u001b[2m\u001b[36m(launch_and_fit pid=1897)\u001b[0m WARNING:tensorflow:AutoGraph could not transform <bound method CNN.call of <__main__.CNN object at 0x7fda90ccb730>> and will run it as-is.\n",
            "\u001b[2m\u001b[36m(launch_and_fit pid=1897)\u001b[0m Cause: Unable to locate the source code of <bound method CNN.call of <__main__.CNN object at 0x7fda90ccb730>>. Note that functions defined in certain environments, like the interactive Python shell, do not expose their source code. If that is the case, you should define them in a .py source file. If you are certain the code is graph-compatible, wrap the call using @tf.autograph.experimental.do_not_convert. Original error: could not get source code\n",
            "\u001b[2m\u001b[36m(launch_and_fit pid=1897)\u001b[0m To silence this warning, decorate the function with @tf.autograph.experimental.do_not_convert\n",
            "\u001b[2m\u001b[36m(launch_and_fit pid=1897)\u001b[0m WARNING:tensorflow:AutoGraph could not transform <bound method CNN.call of <__main__.CNN object at 0x7fda91058eb0>> and will run it as-is.\n",
            "\u001b[2m\u001b[36m(launch_and_fit pid=1897)\u001b[0m Cause: Unable to locate the source code of <bound method CNN.call of <__main__.CNN object at 0x7fda91058eb0>>. Note that functions defined in certain environments, like the interactive Python shell, do not expose their source code. If that is the case, you should define them in a .py source file. If you are certain the code is graph-compatible, wrap the call using @tf.autograph.experimental.do_not_convert. Original error: could not get source code\n",
            "\u001b[2m\u001b[36m(launch_and_fit pid=1897)\u001b[0m To silence this warning, decorate the function with @tf.autograph.experimental.do_not_convert\n",
            "DEBUG flwr 2023-04-03 10:53:21,895 | server.py:229 | fit_round 7 received 5 results and 0 failures\n",
            "DEBUG:flwr:fit_round 7 received 5 results and 0 failures\n",
            "DEBUG flwr 2023-04-03 10:53:21,925 | server.py:165 | evaluate_round 7: strategy sampled 5 clients (out of 5)\n",
            "DEBUG:flwr:evaluate_round 7: strategy sampled 5 clients (out of 5)\n",
            "\u001b[2m\u001b[36m(launch_and_evaluate pid=1897)\u001b[0m WARNING:tensorflow:AutoGraph could not transform <bound method CNN.call of <__main__.CNN object at 0x7fda90f87eb0>> and will run it as-is.\n",
            "\u001b[2m\u001b[36m(launch_and_evaluate pid=1897)\u001b[0m Cause: Unable to locate the source code of <bound method CNN.call of <__main__.CNN object at 0x7fda90f87eb0>>. Note that functions defined in certain environments, like the interactive Python shell, do not expose their source code. If that is the case, you should define them in a .py source file. If you are certain the code is graph-compatible, wrap the call using @tf.autograph.experimental.do_not_convert. Original error: could not get source code\n",
            "\u001b[2m\u001b[36m(launch_and_evaluate pid=1897)\u001b[0m To silence this warning, decorate the function with @tf.autograph.experimental.do_not_convert\n",
            "\u001b[2m\u001b[36m(launch_and_evaluate pid=1897)\u001b[0m WARNING:tensorflow:AutoGraph could not transform <bound method CNN.call of <__main__.CNN object at 0x7fda90e67b20>> and will run it as-is.\n",
            "\u001b[2m\u001b[36m(launch_and_evaluate pid=1897)\u001b[0m Cause: Unable to locate the source code of <bound method CNN.call of <__main__.CNN object at 0x7fda90e67b20>>. Note that functions defined in certain environments, like the interactive Python shell, do not expose their source code. If that is the case, you should define them in a .py source file. If you are certain the code is graph-compatible, wrap the call using @tf.autograph.experimental.do_not_convert. Original error: could not get source code\n",
            "\u001b[2m\u001b[36m(launch_and_evaluate pid=1897)\u001b[0m To silence this warning, decorate the function with @tf.autograph.experimental.do_not_convert\n",
            "\u001b[2m\u001b[36m(launch_and_evaluate pid=1897)\u001b[0m WARNING:tensorflow:AutoGraph could not transform <bound method CNN.call of <__main__.CNN object at 0x7fda90fecfa0>> and will run it as-is.\n",
            "\u001b[2m\u001b[36m(launch_and_evaluate pid=1897)\u001b[0m Cause: Unable to locate the source code of <bound method CNN.call of <__main__.CNN object at 0x7fda90fecfa0>>. Note that functions defined in certain environments, like the interactive Python shell, do not expose their source code. If that is the case, you should define them in a .py source file. If you are certain the code is graph-compatible, wrap the call using @tf.autograph.experimental.do_not_convert. Original error: could not get source code\n",
            "\u001b[2m\u001b[36m(launch_and_evaluate pid=1897)\u001b[0m To silence this warning, decorate the function with @tf.autograph.experimental.do_not_convert\n",
            "\u001b[2m\u001b[36m(launch_and_evaluate pid=1897)\u001b[0m WARNING:tensorflow:AutoGraph could not transform <bound method CNN.call of <__main__.CNN object at 0x7fda90f87bb0>> and will run it as-is.\n",
            "\u001b[2m\u001b[36m(launch_and_evaluate pid=1897)\u001b[0m Cause: Unable to locate the source code of <bound method CNN.call of <__main__.CNN object at 0x7fda90f87bb0>>. Note that functions defined in certain environments, like the interactive Python shell, do not expose their source code. If that is the case, you should define them in a .py source file. If you are certain the code is graph-compatible, wrap the call using @tf.autograph.experimental.do_not_convert. Original error: could not get source code\n",
            "\u001b[2m\u001b[36m(launch_and_evaluate pid=1897)\u001b[0m To silence this warning, decorate the function with @tf.autograph.experimental.do_not_convert\n",
            "\u001b[2m\u001b[36m(launch_and_evaluate pid=1897)\u001b[0m WARNING:tensorflow:AutoGraph could not transform <bound method CNN.call of <__main__.CNN object at 0x7fda900089a0>> and will run it as-is.\n",
            "\u001b[2m\u001b[36m(launch_and_evaluate pid=1897)\u001b[0m Cause: Unable to locate the source code of <bound method CNN.call of <__main__.CNN object at 0x7fda900089a0>>. Note that functions defined in certain environments, like the interactive Python shell, do not expose their source code. If that is the case, you should define them in a .py source file. If you are certain the code is graph-compatible, wrap the call using @tf.autograph.experimental.do_not_convert. Original error: could not get source code\n",
            "\u001b[2m\u001b[36m(launch_and_evaluate pid=1897)\u001b[0m To silence this warning, decorate the function with @tf.autograph.experimental.do_not_convert\n",
            "DEBUG flwr 2023-04-03 10:53:44,895 | server.py:179 | evaluate_round 7 received 5 results and 0 failures\n",
            "DEBUG:flwr:evaluate_round 7 received 5 results and 0 failures\n",
            "DEBUG flwr 2023-04-03 10:53:44,899 | server.py:215 | fit_round 8: strategy sampled 5 clients (out of 5)\n",
            "DEBUG:flwr:fit_round 8: strategy sampled 5 clients (out of 5)\n"
          ]
        },
        {
          "output_type": "stream",
          "name": "stdout",
          "text": [
            "[(2400, {'accuracy': 0.9866666793823242}), (2400, {'accuracy': 0.9891666769981384}), (2400, {'accuracy': 0.9887499809265137}), (2400, {'accuracy': 0.9866666793823242}), (2400, {'accuracy': 0.9791666865348816})]\n"
          ]
        },
        {
          "output_type": "stream",
          "name": "stderr",
          "text": [
            "\u001b[2m\u001b[36m(launch_and_fit pid=1897)\u001b[0m WARNING:tensorflow:AutoGraph could not transform <bound method CNN.call of <__main__.CNN object at 0x7fda90eb6700>> and will run it as-is.\n",
            "\u001b[2m\u001b[36m(launch_and_fit pid=1897)\u001b[0m Cause: Unable to locate the source code of <bound method CNN.call of <__main__.CNN object at 0x7fda90eb6700>>. Note that functions defined in certain environments, like the interactive Python shell, do not expose their source code. If that is the case, you should define them in a .py source file. If you are certain the code is graph-compatible, wrap the call using @tf.autograph.experimental.do_not_convert. Original error: could not get source code\n",
            "\u001b[2m\u001b[36m(launch_and_fit pid=1897)\u001b[0m To silence this warning, decorate the function with @tf.autograph.experimental.do_not_convert\n",
            "\u001b[2m\u001b[36m(launch_and_fit pid=1897)\u001b[0m WARNING:tensorflow:AutoGraph could not transform <bound method CNN.call of <__main__.CNN object at 0x7fda8ffa3a30>> and will run it as-is.\n",
            "\u001b[2m\u001b[36m(launch_and_fit pid=1897)\u001b[0m Cause: Unable to locate the source code of <bound method CNN.call of <__main__.CNN object at 0x7fda8ffa3a30>>. Note that functions defined in certain environments, like the interactive Python shell, do not expose their source code. If that is the case, you should define them in a .py source file. If you are certain the code is graph-compatible, wrap the call using @tf.autograph.experimental.do_not_convert. Original error: could not get source code\n",
            "\u001b[2m\u001b[36m(launch_and_fit pid=1897)\u001b[0m To silence this warning, decorate the function with @tf.autograph.experimental.do_not_convert\n",
            "\u001b[2m\u001b[36m(launch_and_fit pid=1897)\u001b[0m WARNING:tensorflow:AutoGraph could not transform <bound method CNN.call of <__main__.CNN object at 0x7fda90f44340>> and will run it as-is.\n",
            "\u001b[2m\u001b[36m(launch_and_fit pid=1897)\u001b[0m Cause: Unable to locate the source code of <bound method CNN.call of <__main__.CNN object at 0x7fda90f44340>>. Note that functions defined in certain environments, like the interactive Python shell, do not expose their source code. If that is the case, you should define them in a .py source file. If you are certain the code is graph-compatible, wrap the call using @tf.autograph.experimental.do_not_convert. Original error: could not get source code\n",
            "\u001b[2m\u001b[36m(launch_and_fit pid=1897)\u001b[0m To silence this warning, decorate the function with @tf.autograph.experimental.do_not_convert\n",
            "\u001b[2m\u001b[36m(launch_and_fit pid=1897)\u001b[0m WARNING:tensorflow:AutoGraph could not transform <bound method CNN.call of <__main__.CNN object at 0x7fda90067f10>> and will run it as-is.\n",
            "\u001b[2m\u001b[36m(launch_and_fit pid=1897)\u001b[0m Cause: Unable to locate the source code of <bound method CNN.call of <__main__.CNN object at 0x7fda90067f10>>. Note that functions defined in certain environments, like the interactive Python shell, do not expose their source code. If that is the case, you should define them in a .py source file. If you are certain the code is graph-compatible, wrap the call using @tf.autograph.experimental.do_not_convert. Original error: could not get source code\n",
            "\u001b[2m\u001b[36m(launch_and_fit pid=1897)\u001b[0m To silence this warning, decorate the function with @tf.autograph.experimental.do_not_convert\n",
            "\u001b[2m\u001b[36m(launch_and_fit pid=1897)\u001b[0m WARNING:tensorflow:AutoGraph could not transform <bound method CNN.call of <__main__.CNN object at 0x7fda91253820>> and will run it as-is.\n",
            "\u001b[2m\u001b[36m(launch_and_fit pid=1897)\u001b[0m Cause: Unable to locate the source code of <bound method CNN.call of <__main__.CNN object at 0x7fda91253820>>. Note that functions defined in certain environments, like the interactive Python shell, do not expose their source code. If that is the case, you should define them in a .py source file. If you are certain the code is graph-compatible, wrap the call using @tf.autograph.experimental.do_not_convert. Original error: could not get source code\n",
            "\u001b[2m\u001b[36m(launch_and_fit pid=1897)\u001b[0m To silence this warning, decorate the function with @tf.autograph.experimental.do_not_convert\n",
            "DEBUG flwr 2023-04-03 10:55:06,550 | server.py:229 | fit_round 8 received 5 results and 0 failures\n",
            "DEBUG:flwr:fit_round 8 received 5 results and 0 failures\n",
            "DEBUG flwr 2023-04-03 10:55:06,582 | server.py:165 | evaluate_round 8: strategy sampled 5 clients (out of 5)\n",
            "DEBUG:flwr:evaluate_round 8: strategy sampled 5 clients (out of 5)\n",
            "\u001b[2m\u001b[36m(launch_and_evaluate pid=1897)\u001b[0m WARNING:tensorflow:AutoGraph could not transform <bound method CNN.call of <__main__.CNN object at 0x7fda8ffaf0a0>> and will run it as-is.\n",
            "\u001b[2m\u001b[36m(launch_and_evaluate pid=1897)\u001b[0m Cause: Unable to locate the source code of <bound method CNN.call of <__main__.CNN object at 0x7fda8ffaf0a0>>. Note that functions defined in certain environments, like the interactive Python shell, do not expose their source code. If that is the case, you should define them in a .py source file. If you are certain the code is graph-compatible, wrap the call using @tf.autograph.experimental.do_not_convert. Original error: could not get source code\n",
            "\u001b[2m\u001b[36m(launch_and_evaluate pid=1897)\u001b[0m To silence this warning, decorate the function with @tf.autograph.experimental.do_not_convert\n",
            "\u001b[2m\u001b[36m(launch_and_evaluate pid=1897)\u001b[0m WARNING:tensorflow:AutoGraph could not transform <bound method CNN.call of <__main__.CNN object at 0x7fda9006a910>> and will run it as-is.\n",
            "\u001b[2m\u001b[36m(launch_and_evaluate pid=1897)\u001b[0m Cause: Unable to locate the source code of <bound method CNN.call of <__main__.CNN object at 0x7fda9006a910>>. Note that functions defined in certain environments, like the interactive Python shell, do not expose their source code. If that is the case, you should define them in a .py source file. If you are certain the code is graph-compatible, wrap the call using @tf.autograph.experimental.do_not_convert. Original error: could not get source code\n",
            "\u001b[2m\u001b[36m(launch_and_evaluate pid=1897)\u001b[0m To silence this warning, decorate the function with @tf.autograph.experimental.do_not_convert\n",
            "\u001b[2m\u001b[36m(launch_and_evaluate pid=1897)\u001b[0m WARNING:tensorflow:AutoGraph could not transform <bound method CNN.call of <__main__.CNN object at 0x7fda91077880>> and will run it as-is.\n",
            "\u001b[2m\u001b[36m(launch_and_evaluate pid=1897)\u001b[0m Cause: Unable to locate the source code of <bound method CNN.call of <__main__.CNN object at 0x7fda91077880>>. Note that functions defined in certain environments, like the interactive Python shell, do not expose their source code. If that is the case, you should define them in a .py source file. If you are certain the code is graph-compatible, wrap the call using @tf.autograph.experimental.do_not_convert. Original error: could not get source code\n",
            "\u001b[2m\u001b[36m(launch_and_evaluate pid=1897)\u001b[0m To silence this warning, decorate the function with @tf.autograph.experimental.do_not_convert\n",
            "\u001b[2m\u001b[36m(launch_and_evaluate pid=1897)\u001b[0m WARNING:tensorflow:AutoGraph could not transform <bound method CNN.call of <__main__.CNN object at 0x7fda8ffafb20>> and will run it as-is.\n",
            "\u001b[2m\u001b[36m(launch_and_evaluate pid=1897)\u001b[0m Cause: Unable to locate the source code of <bound method CNN.call of <__main__.CNN object at 0x7fda8ffafb20>>. Note that functions defined in certain environments, like the interactive Python shell, do not expose their source code. If that is the case, you should define them in a .py source file. If you are certain the code is graph-compatible, wrap the call using @tf.autograph.experimental.do_not_convert. Original error: could not get source code\n",
            "\u001b[2m\u001b[36m(launch_and_evaluate pid=1897)\u001b[0m To silence this warning, decorate the function with @tf.autograph.experimental.do_not_convert\n",
            "\u001b[2m\u001b[36m(launch_and_evaluate pid=1897)\u001b[0m WARNING:tensorflow:AutoGraph could not transform <bound method CNN.call of <__main__.CNN object at 0x7fda90d38670>> and will run it as-is.\n",
            "\u001b[2m\u001b[36m(launch_and_evaluate pid=1897)\u001b[0m Cause: Unable to locate the source code of <bound method CNN.call of <__main__.CNN object at 0x7fda90d38670>>. Note that functions defined in certain environments, like the interactive Python shell, do not expose their source code. If that is the case, you should define them in a .py source file. If you are certain the code is graph-compatible, wrap the call using @tf.autograph.experimental.do_not_convert. Original error: could not get source code\n",
            "\u001b[2m\u001b[36m(launch_and_evaluate pid=1897)\u001b[0m To silence this warning, decorate the function with @tf.autograph.experimental.do_not_convert\n",
            "DEBUG flwr 2023-04-03 10:55:32,931 | server.py:179 | evaluate_round 8 received 5 results and 0 failures\n",
            "DEBUG:flwr:evaluate_round 8 received 5 results and 0 failures\n",
            "DEBUG flwr 2023-04-03 10:55:32,937 | server.py:215 | fit_round 9: strategy sampled 5 clients (out of 5)\n",
            "DEBUG:flwr:fit_round 9: strategy sampled 5 clients (out of 5)\n"
          ]
        },
        {
          "output_type": "stream",
          "name": "stdout",
          "text": [
            "[(2400, {'accuracy': 0.9895833134651184}), (2400, {'accuracy': 0.9879166483879089}), (2400, {'accuracy': 0.9883333444595337}), (2400, {'accuracy': 0.9862499833106995}), (2400, {'accuracy': 0.9787499904632568})]\n"
          ]
        },
        {
          "output_type": "stream",
          "name": "stderr",
          "text": [
            "\u001b[2m\u001b[36m(launch_and_fit pid=1897)\u001b[0m WARNING:tensorflow:AutoGraph could not transform <bound method CNN.call of <__main__.CNN object at 0x7fda90d62670>> and will run it as-is.\n",
            "\u001b[2m\u001b[36m(launch_and_fit pid=1897)\u001b[0m Cause: Unable to locate the source code of <bound method CNN.call of <__main__.CNN object at 0x7fda90d62670>>. Note that functions defined in certain environments, like the interactive Python shell, do not expose their source code. If that is the case, you should define them in a .py source file. If you are certain the code is graph-compatible, wrap the call using @tf.autograph.experimental.do_not_convert. Original error: could not get source code\n",
            "\u001b[2m\u001b[36m(launch_and_fit pid=1897)\u001b[0m To silence this warning, decorate the function with @tf.autograph.experimental.do_not_convert\n",
            "\u001b[2m\u001b[36m(launch_and_fit pid=1897)\u001b[0m WARNING:tensorflow:AutoGraph could not transform <bound method CNN.call of <__main__.CNN object at 0x7fda90cd95b0>> and will run it as-is.\n",
            "\u001b[2m\u001b[36m(launch_and_fit pid=1897)\u001b[0m Cause: Unable to locate the source code of <bound method CNN.call of <__main__.CNN object at 0x7fda90cd95b0>>. Note that functions defined in certain environments, like the interactive Python shell, do not expose their source code. If that is the case, you should define them in a .py source file. If you are certain the code is graph-compatible, wrap the call using @tf.autograph.experimental.do_not_convert. Original error: could not get source code\n",
            "\u001b[2m\u001b[36m(launch_and_fit pid=1897)\u001b[0m To silence this warning, decorate the function with @tf.autograph.experimental.do_not_convert\n",
            "\u001b[2m\u001b[36m(launch_and_fit pid=1897)\u001b[0m WARNING:tensorflow:AutoGraph could not transform <bound method CNN.call of <__main__.CNN object at 0x7fda90ebc3d0>> and will run it as-is.\n",
            "\u001b[2m\u001b[36m(launch_and_fit pid=1897)\u001b[0m Cause: Unable to locate the source code of <bound method CNN.call of <__main__.CNN object at 0x7fda90ebc3d0>>. Note that functions defined in certain environments, like the interactive Python shell, do not expose their source code. If that is the case, you should define them in a .py source file. If you are certain the code is graph-compatible, wrap the call using @tf.autograph.experimental.do_not_convert. Original error: could not get source code\n",
            "\u001b[2m\u001b[36m(launch_and_fit pid=1897)\u001b[0m To silence this warning, decorate the function with @tf.autograph.experimental.do_not_convert\n",
            "\u001b[2m\u001b[36m(launch_and_fit pid=1897)\u001b[0m WARNING:tensorflow:AutoGraph could not transform <bound method CNN.call of <__main__.CNN object at 0x7fda910fd220>> and will run it as-is.\n",
            "\u001b[2m\u001b[36m(launch_and_fit pid=1897)\u001b[0m Cause: Unable to locate the source code of <bound method CNN.call of <__main__.CNN object at 0x7fda910fd220>>. Note that functions defined in certain environments, like the interactive Python shell, do not expose their source code. If that is the case, you should define them in a .py source file. If you are certain the code is graph-compatible, wrap the call using @tf.autograph.experimental.do_not_convert. Original error: could not get source code\n",
            "\u001b[2m\u001b[36m(launch_and_fit pid=1897)\u001b[0m To silence this warning, decorate the function with @tf.autograph.experimental.do_not_convert\n",
            "\u001b[2m\u001b[36m(launch_and_fit pid=1897)\u001b[0m WARNING:tensorflow:AutoGraph could not transform <bound method CNN.call of <__main__.CNN object at 0x7fda91135d90>> and will run it as-is.\n",
            "\u001b[2m\u001b[36m(launch_and_fit pid=1897)\u001b[0m Cause: Unable to locate the source code of <bound method CNN.call of <__main__.CNN object at 0x7fda91135d90>>. Note that functions defined in certain environments, like the interactive Python shell, do not expose their source code. If that is the case, you should define them in a .py source file. If you are certain the code is graph-compatible, wrap the call using @tf.autograph.experimental.do_not_convert. Original error: could not get source code\n",
            "\u001b[2m\u001b[36m(launch_and_fit pid=1897)\u001b[0m To silence this warning, decorate the function with @tf.autograph.experimental.do_not_convert\n",
            "DEBUG flwr 2023-04-03 10:56:53,189 | server.py:229 | fit_round 9 received 5 results and 0 failures\n",
            "DEBUG:flwr:fit_round 9 received 5 results and 0 failures\n",
            "DEBUG flwr 2023-04-03 10:56:53,227 | server.py:165 | evaluate_round 9: strategy sampled 5 clients (out of 5)\n",
            "DEBUG:flwr:evaluate_round 9: strategy sampled 5 clients (out of 5)\n",
            "\u001b[2m\u001b[36m(launch_and_evaluate pid=1897)\u001b[0m WARNING:tensorflow:AutoGraph could not transform <bound method CNN.call of <__main__.CNN object at 0x7fda90eca9d0>> and will run it as-is.\n",
            "\u001b[2m\u001b[36m(launch_and_evaluate pid=1897)\u001b[0m Cause: Unable to locate the source code of <bound method CNN.call of <__main__.CNN object at 0x7fda90eca9d0>>. Note that functions defined in certain environments, like the interactive Python shell, do not expose their source code. If that is the case, you should define them in a .py source file. If you are certain the code is graph-compatible, wrap the call using @tf.autograph.experimental.do_not_convert. Original error: could not get source code\n",
            "\u001b[2m\u001b[36m(launch_and_evaluate pid=1897)\u001b[0m To silence this warning, decorate the function with @tf.autograph.experimental.do_not_convert\n",
            "\u001b[2m\u001b[36m(launch_and_evaluate pid=1897)\u001b[0m WARNING:tensorflow:AutoGraph could not transform <bound method CNN.call of <__main__.CNN object at 0x7fda91077ca0>> and will run it as-is.\n",
            "\u001b[2m\u001b[36m(launch_and_evaluate pid=1897)\u001b[0m Cause: Unable to locate the source code of <bound method CNN.call of <__main__.CNN object at 0x7fda91077ca0>>. Note that functions defined in certain environments, like the interactive Python shell, do not expose their source code. If that is the case, you should define them in a .py source file. If you are certain the code is graph-compatible, wrap the call using @tf.autograph.experimental.do_not_convert. Original error: could not get source code\n",
            "\u001b[2m\u001b[36m(launch_and_evaluate pid=1897)\u001b[0m To silence this warning, decorate the function with @tf.autograph.experimental.do_not_convert\n",
            "\u001b[2m\u001b[36m(launch_and_evaluate pid=1897)\u001b[0m WARNING:tensorflow:AutoGraph could not transform <bound method CNN.call of <__main__.CNN object at 0x7fda90e64820>> and will run it as-is.\n",
            "\u001b[2m\u001b[36m(launch_and_evaluate pid=1897)\u001b[0m Cause: Unable to locate the source code of <bound method CNN.call of <__main__.CNN object at 0x7fda90e64820>>. Note that functions defined in certain environments, like the interactive Python shell, do not expose their source code. If that is the case, you should define them in a .py source file. If you are certain the code is graph-compatible, wrap the call using @tf.autograph.experimental.do_not_convert. Original error: could not get source code\n",
            "\u001b[2m\u001b[36m(launch_and_evaluate pid=1897)\u001b[0m To silence this warning, decorate the function with @tf.autograph.experimental.do_not_convert\n",
            "\u001b[2m\u001b[36m(launch_and_evaluate pid=1897)\u001b[0m WARNING:tensorflow:AutoGraph could not transform <bound method CNN.call of <__main__.CNN object at 0x7fda90eca190>> and will run it as-is.\n",
            "\u001b[2m\u001b[36m(launch_and_evaluate pid=1897)\u001b[0m Cause: Unable to locate the source code of <bound method CNN.call of <__main__.CNN object at 0x7fda90eca190>>. Note that functions defined in certain environments, like the interactive Python shell, do not expose their source code. If that is the case, you should define them in a .py source file. If you are certain the code is graph-compatible, wrap the call using @tf.autograph.experimental.do_not_convert. Original error: could not get source code\n",
            "\u001b[2m\u001b[36m(launch_and_evaluate pid=1897)\u001b[0m To silence this warning, decorate the function with @tf.autograph.experimental.do_not_convert\n",
            "\u001b[2m\u001b[36m(launch_and_evaluate pid=1897)\u001b[0m WARNING:tensorflow:AutoGraph could not transform <bound method CNN.call of <__main__.CNN object at 0x7fda8ff18ca0>> and will run it as-is.\n",
            "\u001b[2m\u001b[36m(launch_and_evaluate pid=1897)\u001b[0m Cause: Unable to locate the source code of <bound method CNN.call of <__main__.CNN object at 0x7fda8ff18ca0>>. Note that functions defined in certain environments, like the interactive Python shell, do not expose their source code. If that is the case, you should define them in a .py source file. If you are certain the code is graph-compatible, wrap the call using @tf.autograph.experimental.do_not_convert. Original error: could not get source code\n",
            "\u001b[2m\u001b[36m(launch_and_evaluate pid=1897)\u001b[0m To silence this warning, decorate the function with @tf.autograph.experimental.do_not_convert\n",
            "DEBUG flwr 2023-04-03 10:57:17,146 | server.py:179 | evaluate_round 9 received 5 results and 0 failures\n",
            "DEBUG:flwr:evaluate_round 9 received 5 results and 0 failures\n",
            "DEBUG flwr 2023-04-03 10:57:17,150 | server.py:215 | fit_round 10: strategy sampled 5 clients (out of 5)\n",
            "DEBUG:flwr:fit_round 10: strategy sampled 5 clients (out of 5)\n"
          ]
        },
        {
          "output_type": "stream",
          "name": "stdout",
          "text": [
            "[(2400, {'accuracy': 0.9900000095367432}), (2400, {'accuracy': 0.9891666769981384}), (2400, {'accuracy': 0.9816666841506958}), (2400, {'accuracy': 0.9916666746139526}), (2400, {'accuracy': 0.987500011920929})]\n"
          ]
        },
        {
          "output_type": "stream",
          "name": "stderr",
          "text": [
            "\u001b[2m\u001b[36m(launch_and_fit pid=1897)\u001b[0m WARNING:tensorflow:AutoGraph could not transform <bound method CNN.call of <__main__.CNN object at 0x7fda90d86400>> and will run it as-is.\n",
            "\u001b[2m\u001b[36m(launch_and_fit pid=1897)\u001b[0m Cause: Unable to locate the source code of <bound method CNN.call of <__main__.CNN object at 0x7fda90d86400>>. Note that functions defined in certain environments, like the interactive Python shell, do not expose their source code. If that is the case, you should define them in a .py source file. If you are certain the code is graph-compatible, wrap the call using @tf.autograph.experimental.do_not_convert. Original error: could not get source code\n",
            "\u001b[2m\u001b[36m(launch_and_fit pid=1897)\u001b[0m To silence this warning, decorate the function with @tf.autograph.experimental.do_not_convert\n",
            "\u001b[2m\u001b[36m(launch_and_fit pid=1897)\u001b[0m WARNING:tensorflow:AutoGraph could not transform <bound method CNN.call of <__main__.CNN object at 0x7fda90e932e0>> and will run it as-is.\n",
            "\u001b[2m\u001b[36m(launch_and_fit pid=1897)\u001b[0m Cause: Unable to locate the source code of <bound method CNN.call of <__main__.CNN object at 0x7fda90e932e0>>. Note that functions defined in certain environments, like the interactive Python shell, do not expose their source code. If that is the case, you should define them in a .py source file. If you are certain the code is graph-compatible, wrap the call using @tf.autograph.experimental.do_not_convert. Original error: could not get source code\n",
            "\u001b[2m\u001b[36m(launch_and_fit pid=1897)\u001b[0m To silence this warning, decorate the function with @tf.autograph.experimental.do_not_convert\n",
            "\u001b[2m\u001b[36m(launch_and_fit pid=1897)\u001b[0m WARNING:tensorflow:AutoGraph could not transform <bound method CNN.call of <__main__.CNN object at 0x7fda9832d730>> and will run it as-is.\n",
            "\u001b[2m\u001b[36m(launch_and_fit pid=1897)\u001b[0m Cause: Unable to locate the source code of <bound method CNN.call of <__main__.CNN object at 0x7fda9832d730>>. Note that functions defined in certain environments, like the interactive Python shell, do not expose their source code. If that is the case, you should define them in a .py source file. If you are certain the code is graph-compatible, wrap the call using @tf.autograph.experimental.do_not_convert. Original error: could not get source code\n",
            "\u001b[2m\u001b[36m(launch_and_fit pid=1897)\u001b[0m To silence this warning, decorate the function with @tf.autograph.experimental.do_not_convert\n",
            "\u001b[2m\u001b[36m(launch_and_fit pid=1897)\u001b[0m WARNING:tensorflow:AutoGraph could not transform <bound method CNN.call of <__main__.CNN object at 0x7fda90d237c0>> and will run it as-is.\n",
            "\u001b[2m\u001b[36m(launch_and_fit pid=1897)\u001b[0m Cause: Unable to locate the source code of <bound method CNN.call of <__main__.CNN object at 0x7fda90d237c0>>. Note that functions defined in certain environments, like the interactive Python shell, do not expose their source code. If that is the case, you should define them in a .py source file. If you are certain the code is graph-compatible, wrap the call using @tf.autograph.experimental.do_not_convert. Original error: could not get source code\n",
            "\u001b[2m\u001b[36m(launch_and_fit pid=1897)\u001b[0m To silence this warning, decorate the function with @tf.autograph.experimental.do_not_convert\n",
            "\u001b[2m\u001b[36m(launch_and_fit pid=1897)\u001b[0m WARNING:tensorflow:AutoGraph could not transform <bound method CNN.call of <__main__.CNN object at 0x7fda9104bc40>> and will run it as-is.\n",
            "\u001b[2m\u001b[36m(launch_and_fit pid=1897)\u001b[0m Cause: Unable to locate the source code of <bound method CNN.call of <__main__.CNN object at 0x7fda9104bc40>>. Note that functions defined in certain environments, like the interactive Python shell, do not expose their source code. If that is the case, you should define them in a .py source file. If you are certain the code is graph-compatible, wrap the call using @tf.autograph.experimental.do_not_convert. Original error: could not get source code\n",
            "\u001b[2m\u001b[36m(launch_and_fit pid=1897)\u001b[0m To silence this warning, decorate the function with @tf.autograph.experimental.do_not_convert\n",
            "DEBUG flwr 2023-04-03 10:58:36,824 | server.py:229 | fit_round 10 received 5 results and 0 failures\n",
            "DEBUG:flwr:fit_round 10 received 5 results and 0 failures\n",
            "DEBUG flwr 2023-04-03 10:58:36,870 | server.py:165 | evaluate_round 10: strategy sampled 5 clients (out of 5)\n",
            "DEBUG:flwr:evaluate_round 10: strategy sampled 5 clients (out of 5)\n",
            "\u001b[2m\u001b[36m(launch_and_evaluate pid=1897)\u001b[0m WARNING:tensorflow:AutoGraph could not transform <bound method CNN.call of <__main__.CNN object at 0x7fdc0c0eefd0>> and will run it as-is.\n",
            "\u001b[2m\u001b[36m(launch_and_evaluate pid=1897)\u001b[0m Cause: Unable to locate the source code of <bound method CNN.call of <__main__.CNN object at 0x7fdc0c0eefd0>>. Note that functions defined in certain environments, like the interactive Python shell, do not expose their source code. If that is the case, you should define them in a .py source file. If you are certain the code is graph-compatible, wrap the call using @tf.autograph.experimental.do_not_convert. Original error: could not get source code\n",
            "\u001b[2m\u001b[36m(launch_and_evaluate pid=1897)\u001b[0m To silence this warning, decorate the function with @tf.autograph.experimental.do_not_convert\n",
            "\u001b[2m\u001b[36m(launch_and_evaluate pid=1897)\u001b[0m WARNING:tensorflow:AutoGraph could not transform <bound method CNN.call of <__main__.CNN object at 0x7fda8ff6d4c0>> and will run it as-is.\n",
            "\u001b[2m\u001b[36m(launch_and_evaluate pid=1897)\u001b[0m Cause: Unable to locate the source code of <bound method CNN.call of <__main__.CNN object at 0x7fda8ff6d4c0>>. Note that functions defined in certain environments, like the interactive Python shell, do not expose their source code. If that is the case, you should define them in a .py source file. If you are certain the code is graph-compatible, wrap the call using @tf.autograph.experimental.do_not_convert. Original error: could not get source code\n",
            "\u001b[2m\u001b[36m(launch_and_evaluate pid=1897)\u001b[0m To silence this warning, decorate the function with @tf.autograph.experimental.do_not_convert\n",
            "\u001b[2m\u001b[36m(launch_and_evaluate pid=1897)\u001b[0m WARNING:tensorflow:AutoGraph could not transform <bound method CNN.call of <__main__.CNN object at 0x7fda91009be0>> and will run it as-is.\n",
            "\u001b[2m\u001b[36m(launch_and_evaluate pid=1897)\u001b[0m Cause: Unable to locate the source code of <bound method CNN.call of <__main__.CNN object at 0x7fda91009be0>>. Note that functions defined in certain environments, like the interactive Python shell, do not expose their source code. If that is the case, you should define them in a .py source file. If you are certain the code is graph-compatible, wrap the call using @tf.autograph.experimental.do_not_convert. Original error: could not get source code\n",
            "\u001b[2m\u001b[36m(launch_and_evaluate pid=1897)\u001b[0m To silence this warning, decorate the function with @tf.autograph.experimental.do_not_convert\n",
            "\u001b[2m\u001b[36m(launch_and_evaluate pid=1897)\u001b[0m WARNING:tensorflow:AutoGraph could not transform <bound method CNN.call of <__main__.CNN object at 0x7fda90ff6820>> and will run it as-is.\n",
            "\u001b[2m\u001b[36m(launch_and_evaluate pid=1897)\u001b[0m Cause: Unable to locate the source code of <bound method CNN.call of <__main__.CNN object at 0x7fda90ff6820>>. Note that functions defined in certain environments, like the interactive Python shell, do not expose their source code. If that is the case, you should define them in a .py source file. If you are certain the code is graph-compatible, wrap the call using @tf.autograph.experimental.do_not_convert. Original error: could not get source code\n",
            "\u001b[2m\u001b[36m(launch_and_evaluate pid=1897)\u001b[0m To silence this warning, decorate the function with @tf.autograph.experimental.do_not_convert\n",
            "\u001b[2m\u001b[36m(launch_and_evaluate pid=1897)\u001b[0m WARNING:tensorflow:AutoGraph could not transform <bound method CNN.call of <__main__.CNN object at 0x7fda910e6790>> and will run it as-is.\n",
            "\u001b[2m\u001b[36m(launch_and_evaluate pid=1897)\u001b[0m Cause: Unable to locate the source code of <bound method CNN.call of <__main__.CNN object at 0x7fda910e6790>>. Note that functions defined in certain environments, like the interactive Python shell, do not expose their source code. If that is the case, you should define them in a .py source file. If you are certain the code is graph-compatible, wrap the call using @tf.autograph.experimental.do_not_convert. Original error: could not get source code\n",
            "\u001b[2m\u001b[36m(launch_and_evaluate pid=1897)\u001b[0m To silence this warning, decorate the function with @tf.autograph.experimental.do_not_convert\n",
            "DEBUG flwr 2023-04-03 10:59:02,565 | server.py:179 | evaluate_round 10 received 5 results and 0 failures\n",
            "DEBUG:flwr:evaluate_round 10 received 5 results and 0 failures\n",
            "INFO flwr 2023-04-03 10:59:02,573 | server.py:144 | FL finished in 1036.680846666\n",
            "INFO:flwr:FL finished in 1036.680846666\n",
            "INFO flwr 2023-04-03 10:59:02,576 | app.py:202 | app_fit: losses_distributed [(1, 0.22658251225948334), (2, 0.08721537441015244), (3, 0.06703172698616981), (4, 0.058258906751871106), (5, 0.0516501396894455), (6, 0.04955654218792915), (7, 0.04499546885490417), (8, 0.043798650801181796), (9, 0.04142874479293823), (10, 0.03940202072262764)]\n",
            "INFO:flwr:app_fit: losses_distributed [(1, 0.22658251225948334), (2, 0.08721537441015244), (3, 0.06703172698616981), (4, 0.058258906751871106), (5, 0.0516501396894455), (6, 0.04955654218792915), (7, 0.04499546885490417), (8, 0.043798650801181796), (9, 0.04142874479293823), (10, 0.03940202072262764)]\n",
            "INFO flwr 2023-04-03 10:59:02,584 | app.py:203 | app_fit: metrics_distributed {'accuracy': [(1, 0.9575), (2, 0.97375), (3, 0.9805), (4, 0.9831666666666666), (5, 0.9843333333333333), (6, 0.9840833333333333), (7, 0.9860833333333333), (8, 0.9860833333333333), (9, 0.988), (10, 0.98825)]}\n",
            "INFO:flwr:app_fit: metrics_distributed {'accuracy': [(1, 0.9575), (2, 0.97375), (3, 0.9805), (4, 0.9831666666666666), (5, 0.9843333333333333), (6, 0.9840833333333333), (7, 0.9860833333333333), (8, 0.9860833333333333), (9, 0.988), (10, 0.98825)]}\n",
            "INFO flwr 2023-04-03 10:59:02,586 | app.py:204 | app_fit: losses_centralized []\n",
            "INFO:flwr:app_fit: losses_centralized []\n",
            "INFO flwr 2023-04-03 10:59:02,588 | app.py:205 | app_fit: metrics_centralized {}\n",
            "INFO:flwr:app_fit: metrics_centralized {}\n"
          ]
        },
        {
          "output_type": "stream",
          "name": "stdout",
          "text": [
            "[(2400, {'accuracy': 0.9904166460037231}), (2400, {'accuracy': 0.9820833206176758}), (2400, {'accuracy': 0.9879166483879089}), (2400, {'accuracy': 0.9908333420753479}), (2400, {'accuracy': 0.9904166460037231})]\n"
          ]
        },
        {
          "output_type": "execute_result",
          "data": {
            "text/plain": [
              "History (loss, distributed):\n",
              "\tround 1: 0.22658251225948334\n",
              "\tround 2: 0.08721537441015244\n",
              "\tround 3: 0.06703172698616981\n",
              "\tround 4: 0.058258906751871106\n",
              "\tround 5: 0.0516501396894455\n",
              "\tround 6: 0.04955654218792915\n",
              "\tround 7: 0.04499546885490417\n",
              "\tround 8: 0.043798650801181796\n",
              "\tround 9: 0.04142874479293823\n",
              "\tround 10: 0.03940202072262764\n",
              "History (metrics, distributed):\n",
              "{'accuracy': [(1, 0.9575), (2, 0.97375), (3, 0.9805), (4, 0.9831666666666666), (5, 0.9843333333333333), (6, 0.9840833333333333), (7, 0.9860833333333333), (8, 0.9860833333333333), (9, 0.988), (10, 0.98825)]}"
            ]
          },
          "metadata": {},
          "execution_count": 14
        }
      ]
    },
    {
      "cell_type": "code",
      "source": [],
      "metadata": {
        "id": "w0blh4KOtTV5"
      },
      "execution_count": null,
      "outputs": []
    }
  ]
}