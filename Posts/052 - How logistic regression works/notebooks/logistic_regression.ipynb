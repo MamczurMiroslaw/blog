{
 "cells": [
  {
   "cell_type": "code",
   "execution_count": 1,
   "id": "147c2bfb",
   "metadata": {},
   "outputs": [
    {
     "name": "stdout",
     "output_type": "stream",
     "text": [
      "python: 3.9.7\n",
      "\n",
      "pandas: 1.5.2\n",
      "sklearn: 1.1.2\n",
      "statsmodels: 0.13.2\n"
     ]
    }
   ],
   "source": [
    "import pandas as pd\n",
    "import math\n",
    "\n",
    "from sklearn.linear_model import LogisticRegression\n",
    "\n",
    "from platform import python_version\n",
    "from sklearn import __version__ as sklearn_ver\n",
    "from statsmodels import __version__ as statsmodels_ver\n",
    "\n",
    "print(f'python: {python_version()}')\n",
    "print(f'\\npandas: {pd.__version__}')\n",
    "print(f'sklearn: {sklearn_ver}')\n",
    "print(f'statsmodels: {statsmodels_ver}')"
   ]
  },
  {
   "cell_type": "markdown",
   "id": "f8d19f27",
   "metadata": {},
   "source": [
    "## Simple example"
   ]
  },
  {
   "cell_type": "code",
   "execution_count": 2,
   "id": "0f93b3b4",
   "metadata": {
    "scrolled": true
   },
   "outputs": [
    {
     "data": {
      "text/html": [
       "<div>\n",
       "<style scoped>\n",
       "    .dataframe tbody tr th:only-of-type {\n",
       "        vertical-align: middle;\n",
       "    }\n",
       "\n",
       "    .dataframe tbody tr th {\n",
       "        vertical-align: top;\n",
       "    }\n",
       "\n",
       "    .dataframe thead th {\n",
       "        text-align: right;\n",
       "    }\n",
       "</style>\n",
       "<table border=\"1\" class=\"dataframe\">\n",
       "  <thead>\n",
       "    <tr style=\"text-align: right;\">\n",
       "      <th></th>\n",
       "      <th>target</th>\n",
       "      <th>age</th>\n",
       "      <th>smoke</th>\n",
       "    </tr>\n",
       "  </thead>\n",
       "  <tbody>\n",
       "    <tr>\n",
       "      <th>0</th>\n",
       "      <td>0</td>\n",
       "      <td>20</td>\n",
       "      <td>0</td>\n",
       "    </tr>\n",
       "    <tr>\n",
       "      <th>1</th>\n",
       "      <td>1</td>\n",
       "      <td>21</td>\n",
       "      <td>0</td>\n",
       "    </tr>\n",
       "    <tr>\n",
       "      <th>2</th>\n",
       "      <td>0</td>\n",
       "      <td>22</td>\n",
       "      <td>0</td>\n",
       "    </tr>\n",
       "  </tbody>\n",
       "</table>\n",
       "</div>"
      ],
      "text/plain": [
       "   target  age  smoke\n",
       "0       0   20      0\n",
       "1       1   21      0\n",
       "2       0   22      0"
      ]
     },
     "execution_count": 2,
     "metadata": {},
     "output_type": "execute_result"
    }
   ],
   "source": [
    "df = pd.read_excel('../data/data.xlsx')\n",
    "df.head(3)"
   ]
  },
  {
   "cell_type": "markdown",
   "id": "1bbc23a7",
   "metadata": {},
   "source": [
    "#### sklearn"
   ]
  },
  {
   "cell_type": "code",
   "execution_count": 3,
   "id": "415c0bd0",
   "metadata": {},
   "outputs": [
    {
     "name": "stderr",
     "output_type": "stream",
     "text": [
      "/Users/mirek/opt/anaconda3/lib/python3.9/site-packages/sklearn/base.py:450: UserWarning: X does not have valid feature names, but LogisticRegression was fitted with feature names\n",
      "  warnings.warn(\n"
     ]
    },
    {
     "data": {
      "text/plain": [
       "array([0.12675046])"
      ]
     },
     "execution_count": 3,
     "metadata": {},
     "output_type": "execute_result"
    }
   ],
   "source": [
    "X = df[['age']]\n",
    "y = df['target']\n",
    "\n",
    "model = LogisticRegression()\n",
    "model.fit(X, y)\n",
    "\n",
    "# probability of death\n",
    "age_to_predict = 30\n",
    "model.predict_proba([[age_to_predict]])[:,1]"
   ]
  },
  {
   "cell_type": "code",
   "execution_count": 4,
   "id": "66a4278d",
   "metadata": {},
   "outputs": [
    {
     "name": "stdout",
     "output_type": "stream",
     "text": [
      "theta1=0.056; theta0 =-3.618\n"
     ]
    },
    {
     "data": {
      "text/plain": [
       "0.12675046"
      ]
     },
     "execution_count": 4,
     "metadata": {},
     "output_type": "execute_result"
    }
   ],
   "source": [
    "theta0 = model.intercept_[0]\n",
    "theta1 = model.coef_[0][0]\n",
    "\n",
    "print(f'theta1={round(theta1,3)}; theta0 ={round(theta0,3)}')\n",
    "\n",
    "# probability of death from math formula\n",
    "round(1/(1+math.exp(-(age_to_predict*theta1+theta0))),8)"
   ]
  },
  {
   "cell_type": "markdown",
   "id": "76e73cad",
   "metadata": {},
   "source": [
    "#### statsmodels"
   ]
  },
  {
   "cell_type": "code",
   "execution_count": 5,
   "id": "3b513c88",
   "metadata": {},
   "outputs": [
    {
     "name": "stdout",
     "output_type": "stream",
     "text": [
      "Optimization terminated successfully.\n",
      "         Current function value: 0.534205\n",
      "         Iterations 6\n",
      "                           Logit Regression Results                           \n",
      "==============================================================================\n",
      "Dep. Variable:                 target   No. Observations:                   81\n",
      "Model:                          Logit   Df Residuals:                       79\n",
      "Method:                           MLE   Df Model:                            1\n",
      "Date:                Sun, 19 Mar 2023   Pseudo R-squ.:                  0.2251\n",
      "Time:                        20:43:01   Log-Likelihood:                -43.271\n",
      "converged:                       True   LL-Null:                       -55.842\n",
      "Covariance Type:            nonrobust   LLR p-value:                 5.323e-07\n",
      "==============================================================================\n",
      "                 coef    std err          z      P>|z|      [0.025      0.975]\n",
      "------------------------------------------------------------------------------\n",
      "const         -3.6184      0.861     -4.202      0.000      -5.306      -1.931\n",
      "age            0.0563      0.013      4.274      0.000       0.030       0.082\n",
      "==============================================================================\n"
     ]
    }
   ],
   "source": [
    "import statsmodels.api as sm\n",
    "\n",
    "X = df[['age']]\n",
    "y = df['target']\n",
    "\n",
    "X = sm.add_constant(X)\n",
    "\n",
    "model = sm.Logit(y,X)\n",
    "\n",
    "result = model.fit()\n",
    "print(result.summary())"
   ]
  },
  {
   "cell_type": "code",
   "execution_count": 6,
   "id": "8cb4e851",
   "metadata": {},
   "outputs": [
    {
     "data": {
      "text/plain": [
       "-1.9293999999999998"
      ]
     },
     "execution_count": 6,
     "metadata": {},
     "output_type": "execute_result"
    }
   ],
   "source": [
    "# numbers to blog posts :)\n",
    "30 * 0.0563 -3.6184 "
   ]
  },
  {
   "cell_type": "code",
   "execution_count": 7,
   "id": "be25f753",
   "metadata": {},
   "outputs": [
    {
     "data": {
      "text/plain": [
       "-0.015199999999999658"
      ]
     },
     "execution_count": 7,
     "metadata": {},
     "output_type": "execute_result"
    }
   ],
   "source": [
    "64 * 0.0563 -3.6184 "
   ]
  },
  {
   "cell_type": "code",
   "execution_count": 8,
   "id": "f93c783e",
   "metadata": {},
   "outputs": [
    {
     "data": {
      "text/plain": [
       "2.0116"
      ]
     },
     "execution_count": 8,
     "metadata": {},
     "output_type": "execute_result"
    }
   ],
   "source": [
    "100 * 0.0563 -3.6184 "
   ]
  },
  {
   "cell_type": "code",
   "execution_count": 9,
   "id": "3bc8d8d7",
   "metadata": {},
   "outputs": [
    {
     "name": "stdout",
     "output_type": "stream",
     "text": [
      "Optimization terminated successfully.\n",
      "         Current function value: 0.516661\n",
      "         Iterations 6\n",
      "                           Logit Regression Results                           \n",
      "==============================================================================\n",
      "Dep. Variable:                 target   No. Observations:                   81\n",
      "Model:                          Logit   Df Residuals:                       78\n",
      "Method:                           MLE   Df Model:                            2\n",
      "Date:                Sun, 19 Mar 2023   Pseudo R-squ.:                  0.2506\n",
      "Time:                        20:43:01   Log-Likelihood:                -41.850\n",
      "converged:                       True   LL-Null:                       -55.842\n",
      "Covariance Type:            nonrobust   LLR p-value:                 8.377e-07\n",
      "==============================================================================\n",
      "                 coef    std err          z      P>|z|      [0.025      0.975]\n",
      "------------------------------------------------------------------------------\n",
      "const         -3.9205      0.920     -4.261      0.000      -5.724      -2.117\n",
      "age            0.0568      0.014      4.170      0.000       0.030       0.084\n",
      "smoke          1.0253      0.620      1.653      0.098      -0.190       2.241\n",
      "==============================================================================\n"
     ]
    }
   ],
   "source": [
    "# create model for 2 variables\n",
    "X = df[['age', 'smoke']]\n",
    "y = df['target']\n",
    "\n",
    "X = sm.add_constant(X)\n",
    "\n",
    "model = sm.Logit(y,X)\n",
    "\n",
    "result = model.fit()\n",
    "print(result.summary())"
   ]
  },
  {
   "cell_type": "code",
   "execution_count": null,
   "id": "ce394d52",
   "metadata": {},
   "outputs": [],
   "source": []
  },
  {
   "cell_type": "code",
   "execution_count": null,
   "id": "d3f855b7",
   "metadata": {},
   "outputs": [],
   "source": []
  }
 ],
 "metadata": {
  "kernelspec": {
   "display_name": "Python 3 (ipykernel)",
   "language": "python",
   "name": "python3"
  },
  "language_info": {
   "codemirror_mode": {
    "name": "ipython",
    "version": 3
   },
   "file_extension": ".py",
   "mimetype": "text/x-python",
   "name": "python",
   "nbconvert_exporter": "python",
   "pygments_lexer": "ipython3",
   "version": "3.9.7"
  }
 },
 "nbformat": 4,
 "nbformat_minor": 5
}
