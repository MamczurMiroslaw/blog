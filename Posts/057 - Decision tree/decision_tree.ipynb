{
 "cells": [
  {
   "cell_type": "markdown",
   "id": "d3825911",
   "metadata": {},
   "source": [
    "# Decision tree example"
   ]
  },
  {
   "cell_type": "code",
   "execution_count": 1,
   "id": "05512c53",
   "metadata": {},
   "outputs": [],
   "source": [
    "from sklearn.datasets import make_classification\n",
    "from sklearn.model_selection import train_test_split\n",
    "from sklearn.tree import DecisionTreeClassifier\n",
    "from sklearn.metrics import roc_auc_score\n",
    "import matplotlib.pyplot as plt"
   ]
  },
  {
   "cell_type": "code",
   "execution_count": 2,
   "id": "76a88497",
   "metadata": {},
   "outputs": [
    {
     "name": "stdout",
     "output_type": "stream",
     "text": [
      "sklearn: 1.4.1.post1\n",
      "matplotlib: 3.8.3\n"
     ]
    }
   ],
   "source": [
    "from sklearn import __version__ as sklearn_v\n",
    "from matplotlib import __version__ as plt_v\n",
    "print(f\"sklearn: {sklearn_v}\")\n",
    "print(f\"matplotlib: {plt_v}\")"
   ]
  },
  {
   "cell_type": "code",
   "execution_count": 3,
   "id": "5ec0a6c7",
   "metadata": {},
   "outputs": [],
   "source": [
    "# Create a balanced random dataset\n",
    "X, y = make_classification(n_samples=1000, \n",
    "                           n_features=10, \n",
    "                           n_classes=2, \n",
    "                           weights=[0.5, 0.5], \n",
    "                           random_state=2024)"
   ]
  },
  {
   "cell_type": "code",
   "execution_count": 4,
   "id": "173e2b1c",
   "metadata": {},
   "outputs": [],
   "source": [
    "# Division into training and test set\n",
    "X_train, X_test, y_train, y_test = train_test_split(\n",
    "    X, y, test_size=0.2, random_state=2024)"
   ]
  },
  {
   "cell_type": "markdown",
   "id": "56de427c",
   "metadata": {},
   "source": [
    "### Model on defulat parameters"
   ]
  },
  {
   "cell_type": "code",
   "execution_count": 5,
   "id": "bee7fa40",
   "metadata": {},
   "outputs": [
    {
     "data": {
      "text/plain": [
       "{'ccp_alpha': 0.0,\n",
       " 'class_weight': None,\n",
       " 'criterion': 'gini',\n",
       " 'max_depth': None,\n",
       " 'max_features': None,\n",
       " 'max_leaf_nodes': None,\n",
       " 'min_impurity_decrease': 0.0,\n",
       " 'min_samples_leaf': 1,\n",
       " 'min_samples_split': 2,\n",
       " 'min_weight_fraction_leaf': 0.0,\n",
       " 'monotonic_cst': None,\n",
       " 'random_state': 2024,\n",
       " 'splitter': 'best'}"
      ]
     },
     "execution_count": 5,
     "metadata": {},
     "output_type": "execute_result"
    }
   ],
   "source": [
    "# default model\n",
    "model = DecisionTreeClassifier(random_state=2024)\n",
    "\n",
    "model.get_params()"
   ]
  },
  {
   "cell_type": "code",
   "execution_count": 6,
   "id": "9484b47a",
   "metadata": {},
   "outputs": [
    {
     "name": "stdout",
     "output_type": "stream",
     "text": [
      "max_depth=8; AUC: 0.942\n"
     ]
    }
   ],
   "source": [
    "# training model\n",
    "model.fit(X_train, y_train)\n",
    "\n",
    "# calculating AUC on test data\n",
    "y_pred_proba = model.predict_proba(X_test)[:, 1]\n",
    "auc = round(roc_auc_score(y_test, y_pred_proba),3)\n",
    "print(f\"max_depth={model.tree_.max_depth}; AUC: {auc}\")"
   ]
  },
  {
   "cell_type": "markdown",
   "id": "292ada4e",
   "metadata": {},
   "source": [
    "### Loop for max depth"
   ]
  },
  {
   "cell_type": "code",
   "execution_count": 7,
   "id": "c5499cc5",
   "metadata": {},
   "outputs": [
    {
     "name": "stdout",
     "output_type": "stream",
     "text": [
      "max_depth=1; AUC: 0.884\n",
      "max_depth=2; AUC: 0.96\n",
      "max_depth=3; AUC: 0.955\n",
      "max_depth=4; AUC: 0.963\n",
      "max_depth=5; AUC: 0.914\n",
      "max_depth=6; AUC: 0.928\n",
      "max_depth=7; AUC: 0.935\n",
      "max_depth=8; AUC: 0.942\n",
      "max_depth=8; AUC: 0.942\n",
      "max_depth=8; AUC: 0.942\n"
     ]
    }
   ],
   "source": [
    "def decision_tree_calc(max_depth=None):\n",
    "    model = DecisionTreeClassifier(random_state=2024, \n",
    "                                   max_depth=max_depth)\n",
    "    model.fit(X_train, y_train)\n",
    "    \n",
    "\n",
    "    y_pred_proba = model.predict_proba(X_test)[:, 1]\n",
    "    auc = round(roc_auc_score(y_test, y_pred_proba),3)\n",
    "    print(f\"max_depth={model.tree_.max_depth}; AUC: {auc}\")\n",
    "    \n",
    "    return auc, model\n",
    "\n",
    "depth_dict = {}\n",
    "\n",
    "for max_depth in range(1, 11):\n",
    "    auc, model = decision_tree_calc(max_depth=max_depth)\n",
    "    depth_dict[max_depth] = auc"
   ]
  },
  {
   "cell_type": "code",
   "execution_count": 8,
   "id": "fae39846",
   "metadata": {},
   "outputs": [
    {
     "data": {
      "image/png": "[encoded data removed]",
      "text/plain": [
       "<Figure size 1000x500 with 1 Axes>"
      ]
     },
     "metadata": {},
     "output_type": "display_data"
    }
   ],
   "source": [
    "# Extract keys and values from the dictionary\n",
    "keys = list(depth_dict.keys())\n",
    "values = list(depth_dict.values())\n",
    "\n",
    "# Create bar chart\n",
    "plt.figure(figsize=(10, 5))\n",
    "\n",
    "# Define color for each bar, set crimson for the highest value bar\n",
    "colors = ['gray' if v != max(values) else 'crimson' for v in values]\n",
    "\n",
    "bars = plt.bar(keys, values, color=colors)\n",
    "\n",
    "# Add values on top of each bar\n",
    "for bar, value in zip(bars, values):\n",
    "    plt.text(bar.get_x() + bar.get_width() / 2, bar.get_height() + 0.005, f'{value:.3f}', ha='center', va='bottom')\n",
    "\n",
    "# Add title and labels\n",
    "plt.title('Values of AUC based on decision tree depth')\n",
    "plt.xlabel('Max depth')\n",
    "plt.ylabel('AUC on test')\n",
    "\n",
    "# Set x-axis ticks to show all values\n",
    "plt.xticks(keys)\n",
    "\n",
    "# Show plot\n",
    "plt.show()"
   ]
  },
  {
   "cell_type": "code",
   "execution_count": 9,
   "id": "0da73b99",
   "metadata": {},
   "outputs": [
    {
     "name": "stdout",
     "output_type": "stream",
     "text": [
      "graphviz: 0.20.1\n"
     ]
    }
   ],
   "source": [
    "from sklearn.tree import export_graphviz\n",
    "import graphviz\n",
    "\n",
    "print(f\"graphviz: {graphviz.__version__}\")"
   ]
  },
  {
   "cell_type": "code",
   "execution_count": 10,
   "id": "2e2f9195",
   "metadata": {},
   "outputs": [],
   "source": [
    "def decision_tree_graph(model, file_to_save_name):\n",
    "    # Export decision tree to DOT format\n",
    "    dot_data = export_graphviz(model, out_file=None, \n",
    "                               filled=True, rounded=True,  \n",
    "                               special_characters=True)\n",
    "\n",
    "    # Visualize decision tree\n",
    "    graph = graphviz.Source(dot_data)\n",
    "    \n",
    "    # Save tree as PNG file\n",
    "    graph.render('./img/' + file_to_save_name, format='png') \n",
    "    \n",
    "    # Open tree in default PDF viewer\n",
    "    # graph.view()  "
   ]
  },
  {
   "cell_type": "code",
   "execution_count": 11,
   "id": "acf52954",
   "metadata": {},
   "outputs": [
    {
     "name": "stdout",
     "output_type": "stream",
     "text": [
      "max_depth=2; AUC: 0.96\n"
     ]
    }
   ],
   "source": [
    "max_depth = 2\n",
    "auc, model = decision_tree_calc(max_depth=max_depth)\n",
    "decision_tree_graph(model, f'graph_max_depth_{str(max_depth)}')"
   ]
  },
  {
   "cell_type": "code",
   "execution_count": 12,
   "id": "477cd690",
   "metadata": {
    "scrolled": true
   },
   "outputs": [
    {
     "name": "stdout",
     "output_type": "stream",
     "text": [
      "max_depth=4; AUC: 0.963\n"
     ]
    }
   ],
   "source": [
    "max_depth = 4\n",
    "auc, model = decision_tree_calc(max_depth=max_depth)\n",
    "decision_tree_graph(model, f'graph_max_depth_{str(max_depth)}')"
   ]
  },
  {
   "cell_type": "code",
   "execution_count": 13,
   "id": "15249762",
   "metadata": {},
   "outputs": [],
   "source": [
    "from sklearn.datasets import load_iris\n",
    "\n",
    "# Load iris dataset\n",
    "iris = load_iris()\n",
    "X, y = iris.data, iris.target\n",
    "\n",
    "# Train decision tree classifier\n",
    "iris_model = DecisionTreeClassifier(max_depth=3)\n",
    "iris_model.fit(X, y)\n",
    "\n",
    "# graph visualization\n",
    "decision_tree_graph(iris_model, f'iris_dataset_max_depth_3')"
   ]
  },
  {
   "cell_type": "code",
   "execution_count": null,
   "id": "840bc460",
   "metadata": {},
   "outputs": [],
   "source": []
  },
  {
   "cell_type": "code",
   "execution_count": null,
   "id": "10c6dd19",
   "metadata": {},
   "outputs": [],
   "source": []
  }
 ],
 "metadata": {
  "kernelspec": {
   "display_name": "Python 3 (ipykernel)",
   "language": "python",
   "name": "python3"
  },
  "language_info": {
   "codemirror_mode": {
    "name": "ipython",
    "version": 3
   },
   "file_extension": ".py",
   "mimetype": "text/x-python",
   "name": "python",
   "nbconvert_exporter": "python",
   "pygments_lexer": "ipython3",
   "version": "3.10.9"
  }
 },
 "nbformat": 4,
 "nbformat_minor": 5
}
